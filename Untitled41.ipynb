{
 "cells": [
  {
   "cell_type": "code",
   "execution_count": 21,
   "metadata": {},
   "outputs": [],
   "source": [
    "def seq_num():\n",
    "    lista=[]\n",
    "    k=0\n",
    "    num=input(\"number of elements\")\n",
    "    j=0\n",
    "    while j<int(num):\n",
    "        c=input()\n",
    "        lista.append(int(c))\n",
    "        j=j+1\n",
    "    for i in range(1,len(lista)-1):\n",
    "        if lista[i]>lista[i-1] and lista[i]<lista[i+1]:\n",
    "            k=k+1\n",
    "    return k\n",
    "        "
   ]
  },
  {
   "cell_type": "code",
   "execution_count": 591,
   "metadata": {},
   "outputs": [],
   "source": [
    "def div1(array,k):\n",
    "    for i in array:\n",
    "        right=[0 for i in range(k)]\n",
    "    return right\n",
    "def div(array,k):\n",
    "    left=[]\n",
    "    right=[]\n",
    "    if len(array)>1:\n",
    "        root=array[0]\n",
    "        print (root)\n",
    "        for i in array:\n",
    "            if i<root:\n",
    "                left.append(i)\n",
    "            if i>root:\n",
    "                right.append(i)\n",
    "    if len(right)>1 or len(left)>1:\n",
    "        div(right,k)\n",
    "        div(left,k)"
   ]
  },
  {
   "cell_type": "code",
   "execution_count": 592,
   "metadata": {},
   "outputs": [],
   "source": [
    "lista=[11,6,8,19,4,10,5,17,43,49,31]\n",
    "lista1=[6,8,2,4,1,7,9,3,5]\n",
    "lista2=[4,7,3,2,6]"
   ]
  },
  {
   "cell_type": "code",
   "execution_count": 594,
   "metadata": {},
   "outputs": [
    {
     "name": "stdout",
     "output_type": "stream",
     "text": [
      "4\n",
      "7\n",
      "3\n"
     ]
    }
   ],
   "source": [
    "a=div(lista2,0)"
   ]
  },
  {
   "cell_type": "code",
   "execution_count": 596,
   "metadata": {},
   "outputs": [],
   "source": [
    "def div1(array,k):\n",
    "    for i in array:\n",
    "        right=[0 for i in range(k)]\n",
    "    return right"
   ]
  },
  {
   "cell_type": "code",
   "execution_count": 599,
   "metadata": {},
   "outputs": [
    {
     "data": {
      "text/plain": [
       "[0, 0, 0]"
      ]
     },
     "execution_count": 599,
     "metadata": {},
     "output_type": "execute_result"
    }
   ],
   "source": [
    "div1(lista,3)"
   ]
  },
  {
   "cell_type": "code",
   "execution_count": 690,
   "metadata": {},
   "outputs": [],
   "source": [
    "def k_ary(n,k):\n",
    "    for i in range(k):\n",
    "        print (i)"
   ]
  },
  {
   "cell_type": "code",
   "execution_count": 696,
   "metadata": {},
   "outputs": [
    {
     "name": "stdout",
     "output_type": "stream",
     "text": [
      "0\n",
      "1\n",
      "2\n",
      "3\n",
      "4\n",
      "0\n",
      "1\n",
      "2\n",
      "3\n",
      "4\n",
      "0\n",
      "1\n",
      "2\n",
      "3\n",
      "4\n"
     ]
    }
   ],
   "source": [
    "for i in range(3):\n",
    "    k_ary(i,5)"
   ]
  },
  {
   "cell_type": "code",
   "execution_count": 701,
   "metadata": {},
   "outputs": [],
   "source": [
    "from itertools import combinations_with_replacement"
   ]
  },
  {
   "cell_type": "code",
   "execution_count": 702,
   "metadata": {},
   "outputs": [
    {
     "data": {
      "text/plain": [
       "<itertools.combinations at 0x1531508a278>"
      ]
     },
     "execution_count": 702,
     "metadata": {},
     "output_type": "execute_result"
    }
   ],
   "source": [
    "combinations('abcd',2)"
   ]
  },
  {
   "cell_type": "code",
   "execution_count": 783,
   "metadata": {},
   "outputs": [],
   "source": [
    "l=combinations_with_replacement('123', 2)"
   ]
  },
  {
   "cell_type": "code",
   "execution_count": 721,
   "metadata": {},
   "outputs": [],
   "source": [
    "from itertools import product"
   ]
  },
  {
   "cell_type": "code",
   "execution_count": 785,
   "metadata": {},
   "outputs": [
    {
     "data": {
      "text/plain": [
       "<itertools.combinations_with_replacement at 0x153153cf2c8>"
      ]
     },
     "execution_count": 785,
     "metadata": {},
     "output_type": "execute_result"
    }
   ],
   "source": [
    "l"
   ]
  },
  {
   "cell_type": "code",
   "execution_count": 85,
   "metadata": {},
   "outputs": [],
   "source": [
    "def trail2(n):\n",
    "    import math,numpy\n",
    "    sum=0\n",
    "    k=math.ceil(math.log10(n))+1\n",
    "    for i in range(1,k+2):\n",
    "        sum=sum+int(n/(numpy.power(5,i)))\n",
    "    return sum"
   ]
  },
  {
   "cell_type": "code",
   "execution_count": 1,
   "metadata": {},
   "outputs": [
    {
     "name": "stdout",
     "output_type": "stream",
     "text": [
      "* \n",
      "* * \n",
      "* * * \n",
      "* * * * \n",
      "* * * * * \n",
      "* * * * * * \n",
      "* * * * * * * \n",
      "* * * * * * * * \n"
     ]
    }
   ],
   "source": [
    "for i in range(1,9):\n",
    "    print ('* '*i,end=\"\")\n",
    "    print ()"
   ]
  },
  {
   "cell_type": "code",
   "execution_count": 335,
   "metadata": {},
   "outputs": [],
   "source": [
    "lista3=[6 ,8 ,2 ,4 ,2, 1 ,2 ,7 ,9 ,4 ,3 ,6 ,5, 5]"
   ]
  },
  {
   "cell_type": "code",
   "execution_count": 307,
   "metadata": {},
   "outputs": [
    {
     "data": {
      "text/plain": [
       "[6, 8, 2, 4, 2, 1, 2, 7, 9, 4, 3, 6, 5, 5]"
      ]
     },
     "execution_count": 307,
     "metadata": {},
     "output_type": "execute_result"
    }
   ],
   "source": [
    "lista3"
   ]
  },
  {
   "cell_type": "code",
   "execution_count": 308,
   "metadata": {},
   "outputs": [],
   "source": [
    "def dupl(l,r,array):\n",
    "    list_del=[]\n",
    "    for i in range(int(r/2),int(r)):\n",
    "        if array[i] in array[l:int(r/2)]:\n",
    "            list_del.append(i)\n",
    "    j=0\n",
    "    for i in list_del:\n",
    "        del array[i-j]\n",
    "        j=j+1\n",
    "    if len(array)>1:\n",
    "        dupl(0,int(r/2),array)"
   ]
  },
  {
   "cell_type": "code",
   "execution_count": 309,
   "metadata": {},
   "outputs": [
    {
     "ename": "RecursionError",
     "evalue": "maximum recursion depth exceeded in comparison",
     "output_type": "error",
     "traceback": [
      "\u001b[1;31m---------------------------------------------------------------------------\u001b[0m",
      "\u001b[1;31mRecursionError\u001b[0m                            Traceback (most recent call last)",
      "\u001b[1;32m<ipython-input-309-1b454ea85379>\u001b[0m in \u001b[0;36m<module>\u001b[1;34m()\u001b[0m\n\u001b[1;32m----> 1\u001b[1;33m \u001b[0mdupl\u001b[0m\u001b[1;33m(\u001b[0m\u001b[1;36m0\u001b[0m\u001b[1;33m,\u001b[0m\u001b[1;36m14\u001b[0m\u001b[1;33m,\u001b[0m\u001b[0mlista3\u001b[0m\u001b[1;33m)\u001b[0m\u001b[1;33m\u001b[0m\u001b[0m\n\u001b[0m",
      "\u001b[1;32m<ipython-input-308-e6276c4b22b0>\u001b[0m in \u001b[0;36mdupl\u001b[1;34m(l, r, array)\u001b[0m\n\u001b[0;32m      9\u001b[0m         \u001b[0mj\u001b[0m\u001b[1;33m=\u001b[0m\u001b[0mj\u001b[0m\u001b[1;33m+\u001b[0m\u001b[1;36m1\u001b[0m\u001b[1;33m\u001b[0m\u001b[0m\n\u001b[0;32m     10\u001b[0m     \u001b[1;32mif\u001b[0m \u001b[0mlen\u001b[0m\u001b[1;33m(\u001b[0m\u001b[0marray\u001b[0m\u001b[1;33m)\u001b[0m\u001b[1;33m>\u001b[0m\u001b[1;36m1\u001b[0m\u001b[1;33m:\u001b[0m\u001b[1;33m\u001b[0m\u001b[0m\n\u001b[1;32m---> 11\u001b[1;33m         \u001b[0mdupl\u001b[0m\u001b[1;33m(\u001b[0m\u001b[1;36m0\u001b[0m\u001b[1;33m,\u001b[0m\u001b[0mint\u001b[0m\u001b[1;33m(\u001b[0m\u001b[0mr\u001b[0m\u001b[1;33m/\u001b[0m\u001b[1;36m2\u001b[0m\u001b[1;33m)\u001b[0m\u001b[1;33m,\u001b[0m\u001b[0marray\u001b[0m\u001b[1;33m)\u001b[0m\u001b[1;33m\u001b[0m\u001b[0m\n\u001b[0m",
      "... last 1 frames repeated, from the frame below ...\n",
      "\u001b[1;32m<ipython-input-308-e6276c4b22b0>\u001b[0m in \u001b[0;36mdupl\u001b[1;34m(l, r, array)\u001b[0m\n\u001b[0;32m      9\u001b[0m         \u001b[0mj\u001b[0m\u001b[1;33m=\u001b[0m\u001b[0mj\u001b[0m\u001b[1;33m+\u001b[0m\u001b[1;36m1\u001b[0m\u001b[1;33m\u001b[0m\u001b[0m\n\u001b[0;32m     10\u001b[0m     \u001b[1;32mif\u001b[0m \u001b[0mlen\u001b[0m\u001b[1;33m(\u001b[0m\u001b[0marray\u001b[0m\u001b[1;33m)\u001b[0m\u001b[1;33m>\u001b[0m\u001b[1;36m1\u001b[0m\u001b[1;33m:\u001b[0m\u001b[1;33m\u001b[0m\u001b[0m\n\u001b[1;32m---> 11\u001b[1;33m         \u001b[0mdupl\u001b[0m\u001b[1;33m(\u001b[0m\u001b[1;36m0\u001b[0m\u001b[1;33m,\u001b[0m\u001b[0mint\u001b[0m\u001b[1;33m(\u001b[0m\u001b[0mr\u001b[0m\u001b[1;33m/\u001b[0m\u001b[1;36m2\u001b[0m\u001b[1;33m)\u001b[0m\u001b[1;33m,\u001b[0m\u001b[0marray\u001b[0m\u001b[1;33m)\u001b[0m\u001b[1;33m\u001b[0m\u001b[0m\n\u001b[0m",
      "\u001b[1;31mRecursionError\u001b[0m: maximum recursion depth exceeded in comparison"
     ]
    }
   ],
   "source": [
    "dupl(0,14,lista3)"
   ]
  },
  {
   "cell_type": "code",
   "execution_count": 339,
   "metadata": {},
   "outputs": [
    {
     "data": {
      "text/plain": [
       "[6, 8, 2, 4, 1, 7, 9, 3, 5]"
      ]
     },
     "execution_count": 339,
     "metadata": {},
     "output_type": "execute_result"
    }
   ],
   "source": [
    "lista3"
   ]
  },
  {
   "cell_type": "code",
   "execution_count": 355,
   "metadata": {},
   "outputs": [],
   "source": [
    "def rem_dupl_linear(array):\n",
    "    list_del=[]\n",
    "    for i in range(1,len(array)):\n",
    "        if array[i] in array[0:i]:\n",
    "            list_del.append(i)\n",
    "    j=0\n",
    "    for i in list_del:\n",
    "        del array[i-j]\n",
    "        j=j+1 "
   ]
  },
  {
   "cell_type": "code",
   "execution_count": 502,
   "metadata": {},
   "outputs": [],
   "source": [
    "lista3=[6 ,8 ,2 ,4,6 ,2, 1 ,2 ,7 ,9 ,4 ,3 ,6 ,5, 5]"
   ]
  },
  {
   "cell_type": "code",
   "execution_count": 503,
   "metadata": {},
   "outputs": [],
   "source": [
    "rem_dupl_linear(lista3)"
   ]
  },
  {
   "cell_type": "code",
   "execution_count": 570,
   "metadata": {},
   "outputs": [
    {
     "data": {
      "text/plain": [
       "[6, 8, 2, 4, 1, 7, 9, 3, 5]"
      ]
     },
     "execution_count": 570,
     "metadata": {},
     "output_type": "execute_result"
    }
   ],
   "source": [
    "lista3"
   ]
  },
  {
   "cell_type": "code",
   "execution_count": 454,
   "metadata": {},
   "outputs": [],
   "source": [
    "root=lista3[0]\n",
    "def root_init(array):\n",
    "    tree_bin=[]\n",
    "    tree_bin.append(root)\n",
    "    for i in range(1,len(array)):\n",
    "        if array[i] < root:\n",
    "            tree_bin.append(array[i])\n",
    "            break\n",
    "    for i in range(1,len(array)):\n",
    "        if array[i]>root:\n",
    "            tree_bin.append(array[i])\n",
    "            break \n",
    "    i=0\n",
    "    while i<len(array):\n",
    "        print (tree_bin[i])\n",
    "        if tree_bin[i]<root:\n",
    "            for j in range(len(array)):\n",
    "                if array[j]<tree_bin[i] and array[j] <root:\n",
    "                    tree_bin.append(array[j])\n",
    "                    break\n",
    "            for j in range(len(array)):\n",
    "                if array[j]>tree_bin[i] and array[j] <root:\n",
    "                    tree_bin.append(array[j])\n",
    "                    break\n",
    "        if tree_bin[i]>root:\n",
    "            for j in range(len(array)):\n",
    "                if array[j]<tree_bin[i] and array[j] >root:\n",
    "                    tree_bin.append(array[j])\n",
    "                    break\n",
    "            for j in range(len(array)):\n",
    "                if array[j]>tree_bin[i] and array[j] >root:\n",
    "                    tree_bin.append(array[j])\n",
    "                    break\n",
    "        i=i+1\n",
    "    return tree_bin"
   ]
  },
  {
   "cell_type": "code",
   "execution_count": 825,
   "metadata": {},
   "outputs": [],
   "source": [
    "def left_tree(leaf,array,root,parent,start):\n",
    "            j=start\n",
    "            l='Null'\n",
    "            if parent!=root:\n",
    "                \n",
    "                if leaf>parent:\n",
    "                    while j<len(array):\n",
    "                        if array[j]<leaf and array[j] <root and array[j]>parent:\n",
    "                            l=array[j]\n",
    "                            break\n",
    "                        j=j+1\n",
    "                if leaf<parent:\n",
    "                    while j<len(array):\n",
    "                        if array[j]<leaf and array[j] <root and array[j]<parent:\n",
    "                            l=array[j]\n",
    "                            break\n",
    "                        j=j+1\n",
    "                        \n",
    "                j=start\n",
    "                l='Null'   \n",
    "                \n",
    "                if leaf >parent:\n",
    "                    while j<len(array):\n",
    "                        if array[j]>leaf and array[j] <root and array[j]>parent:\n",
    "                            r=array[j]\n",
    "                            break\n",
    "                        j=j+1\n",
    "                if leaf <parent:\n",
    "                    while j<len(array):\n",
    "                        if array[j]>leaf and array[j] <root and array[j]<parent:\n",
    "                            r=array[j]\n",
    "                            break\n",
    "                        j=j+1\n",
    "            else:\n",
    "                j=start\n",
    "                l='Null'\n",
    "                while j<len(array):\n",
    "                    if array[j] <leaf and array[j] <root:\n",
    "                        l=array[j]\n",
    "                        break\n",
    "                    j=j+1\n",
    "                j=start\n",
    "                r='Null'\n",
    "                while j<len(array):\n",
    "                    if array[j] >leaf and array[j] <root:\n",
    "                        r=array[j]\n",
    "                        break\n",
    "                    j=j+1\n",
    "            return [l,r]  \n",
    "              \n",
    "\n",
    "\n",
    "def right_tree(leaf,array,root,parent,start):\n",
    "            j=start\n",
    "            l='Null'\n",
    "            if parent!=root:\n",
    "                \n",
    "                if leaf>parent:\n",
    "                    while j<len(array):\n",
    "                        if array[j]<leaf and array[j] >root and array[j]>parent:\n",
    "                            l=array[j]\n",
    "                            break\n",
    "                        j=j+1\n",
    "                if leaf<parent:\n",
    "                    while j<len(array):\n",
    "                        if array[j]<leaf and array[j] >root and array[j]<parent:\n",
    "                            l=array[j]\n",
    "                            break\n",
    "                        j=j+1\n",
    "                        \n",
    "                j=start\n",
    "                r='Null'   \n",
    "                if leaf >parent:\n",
    "                    while j<len(array):\n",
    "                        if array[j]>leaf and array[j] >root and array[j]>parent:\n",
    "                            r=array[j]\n",
    "                            break\n",
    "                        j=j+1\n",
    "                if leaf <parent:\n",
    "                    while j<len(array):\n",
    "                        if array[j]>leaf and array[j] >root and array[j]<parent:\n",
    "                            r=array[j]\n",
    "                            break\n",
    "                        j=j+1\n",
    "            else:\n",
    "                j=start\n",
    "                l='Null'\n",
    "                while j<len(array):\n",
    "                    if array[j] <leaf and array[j] >root:\n",
    "                        l=array[j]\n",
    "                        break\n",
    "                    j=j+1\n",
    "                j=start\n",
    "                r='Null'\n",
    "                while j<len(array):\n",
    "                    if array[j] >leaf and array[j] >root:\n",
    "                        r=array[j]\n",
    "                        break\n",
    "                    j=j+1\n",
    "            return [l,r]\n",
    "        \n",
    "root=lista3[0]\n",
    "\n",
    "def root_init1(array):\n",
    "    tree_bin=[]\n",
    "    tree_bin.append(root)\n",
    "    for i in range(1,len(array)):\n",
    "        if array[i] < root:\n",
    "            tree_bin.append(array[i])\n",
    "            break\n",
    "    for i in range(1,len(array)):\n",
    "        if array[i]>root:\n",
    "            tree_bin.append(array[i])\n",
    "            break \n",
    "    return tree_bin"
   ]
  },
  {
   "cell_type": "code",
   "execution_count": 836,
   "metadata": {},
   "outputs": [],
   "source": [
    "lista3=[7, 8, 2, 4, 1, 3, 10, 5]"
   ]
  },
  {
   "cell_type": "code",
   "execution_count": 837,
   "metadata": {},
   "outputs": [
    {
     "data": {
      "text/plain": [
       "[7, 2, 8]"
      ]
     },
     "execution_count": 837,
     "metadata": {},
     "output_type": "execute_result"
    }
   ],
   "source": [
    "root_init1(lista3)\n"
   ]
  },
  {
   "cell_type": "code",
   "execution_count": 841,
   "metadata": {},
   "outputs": [
    {
     "data": {
      "text/plain": [
       "[3, 5]"
      ]
     },
     "execution_count": 841,
     "metadata": {},
     "output_type": "execute_result"
    }
   ],
   "source": [
    "left_tree(4,lista3,7,2,0)"
   ]
  },
  {
   "cell_type": "code",
   "execution_count": 845,
   "metadata": {},
   "outputs": [],
   "source": [
    "lista3=[7, 8, 2, 4, 1, 3, 10, 5]"
   ]
  },
  {
   "cell_type": "code",
   "execution_count": 846,
   "metadata": {},
   "outputs": [
    {
     "data": {
      "text/plain": [
       "[7, 2, 8]"
      ]
     },
     "execution_count": 846,
     "metadata": {},
     "output_type": "execute_result"
    }
   ],
   "source": [
    "root_ini(lista3)"
   ]
  },
  {
   "cell_type": "code",
   "execution_count": 860,
   "metadata": {},
   "outputs": [
    {
     "data": {
      "text/plain": [
       "[1, 4]"
      ]
     },
     "execution_count": 860,
     "metadata": {},
     "output_type": "execute_result"
    }
   ],
   "source": [
    "left_tr(2,lista3,7,7)"
   ]
  },
  {
   "cell_type": "code",
   "execution_count": 859,
   "metadata": {},
   "outputs": [
    {
     "data": {
      "text/plain": [
       "['Null', 'Null']"
      ]
     },
     "execution_count": 859,
     "metadata": {},
     "output_type": "execute_result"
    }
   ],
   "source": [
    "left_tree(3,lista3,7,4,6)"
   ]
  },
  {
   "cell_type": "code",
   "execution_count": 905,
   "metadata": {},
   "outputs": [],
   "source": [
    "def left_tr(leaf,array,root,parent):\n",
    "            j=0\n",
    "            l='Null'\n",
    "            if parent!=root:\n",
    "                \n",
    "                if leaf>parent:\n",
    "                    while j<len(array):\n",
    "                        if array[j]<leaf and array[j] <root and array[j]>parent:\n",
    "                            l=array[j]\n",
    "                            del array[j]\n",
    "                            break\n",
    "                        j=j+1\n",
    "                if leaf<parent:\n",
    "                    while j<len(array):\n",
    "                        if array[j]<leaf and array[j] <root and array[j]<parent:\n",
    "                            l=array[j]\n",
    "                            del array[j]\n",
    "                            break\n",
    "                        j=j+1\n",
    "                        \n",
    "                j=0\n",
    "                r='Null'   \n",
    "                \n",
    "                if leaf >parent:\n",
    "                    while j<len(array):\n",
    "                        if array[j]>leaf and array[j] <root and array[j]>parent:\n",
    "                            r=array[j]\n",
    "                            del array[j]\n",
    "                            break\n",
    "                        j=j+1\n",
    "                if leaf <parent:\n",
    "                    while j<len(array):\n",
    "                        if array[j]>leaf and array[j] <root and array[j]<parent:\n",
    "                            r=array[j]\n",
    "                            del array[j]\n",
    "                            break\n",
    "                        j=j+1\n",
    "            else:\n",
    "                j=0\n",
    "                l='Null'\n",
    "                while j<len(array):\n",
    "                    if array[j] <leaf and array[j] <root:\n",
    "                        l=array[j]\n",
    "                        del array[j]\n",
    "                        break\n",
    "                    j=j+1\n",
    "                j=0\n",
    "                r='Null'\n",
    "                while j<len(array):\n",
    "                    if array[j] >leaf and array[j] <root:\n",
    "                        r=array[j]\n",
    "                        del array[j]\n",
    "                        break\n",
    "                    j=j+1\n",
    "            return [l,r,parent]  \n",
    "              \n",
    "\n",
    "\n",
    "def right_tr(leaf,array,root,parent):\n",
    "            j=0\n",
    "            l='Null'\n",
    "            if parent!=root:\n",
    "                \n",
    "                if leaf>parent:\n",
    "                    while j<len(array):\n",
    "                        if array[j]<leaf and array[j] >root and array[j]>parent:\n",
    "                            l=array[j]\n",
    "                            del array[j]\n",
    "                            break\n",
    "                        j=j+1\n",
    "                if leaf<parent:\n",
    "                    while j<len(array):\n",
    "                        if array[j]<leaf and array[j] >root and array[j]<parent:\n",
    "                            l=array[j]\n",
    "                            del array[j]\n",
    "                            break\n",
    "                        j=j+1\n",
    "                        \n",
    "                j=0\n",
    "                r='Null'   \n",
    "                if leaf >parent:\n",
    "                    while j<len(array):\n",
    "                        if array[j]>leaf and array[j] >root and array[j]>parent:\n",
    "                            r=array[j]\n",
    "                            del array[j]\n",
    "                            break\n",
    "                        j=j+1\n",
    "                if leaf <parent:\n",
    "                    while j<len(array):\n",
    "                        if array[j]>leaf and array[j] >root and array[j]<parent:\n",
    "                            r=array[j]\n",
    "                            del array[j]\n",
    "                            break\n",
    "                        j=j+1\n",
    "            else:\n",
    "                j=0\n",
    "                l='Null'\n",
    "                while j<len(array):\n",
    "                    if array[j] <leaf and array[j] >root:\n",
    "                        l=array[j]\n",
    "                        del array[j]\n",
    "                        break\n",
    "                    j=j+1\n",
    "                j=0\n",
    "                r='Null'\n",
    "                while j<len(array):\n",
    "                    if array[j] >leaf and array[j] >root:\n",
    "                        r=array[j]\n",
    "                        del array[j]\n",
    "                        break\n",
    "                    j=j+1\n",
    "            return [l,r]\n",
    "        \n",
    "root=lista3[0]\n",
    "\n",
    "def root_ini1(array):\n",
    "    tree_bin=[]\n",
    "    tree_bin.append(root)\n",
    "    for i in range(1,len(array)):\n",
    "        if array[i] < root:\n",
    "            tree_bin.append(array[i])\n",
    "            break\n",
    "    for i in range(1,len(array)):\n",
    "        if array[i]>root:\n",
    "            tree_bin.append(array[i])\n",
    "            break \n",
    "    return tree_bin"
   ]
  },
  {
   "cell_type": "code",
   "execution_count": 894,
   "metadata": {},
   "outputs": [
    {
     "data": {
      "text/plain": [
       "[7, 4, 8]"
      ]
     },
     "execution_count": 894,
     "metadata": {},
     "output_type": "execute_result"
    }
   ],
   "source": [
    "root_ini(lista3)"
   ]
  },
  {
   "cell_type": "code",
   "execution_count": 895,
   "metadata": {},
   "outputs": [],
   "source": [
    "lista_tr=left_tr(4,lista3,7,7)"
   ]
  },
  {
   "cell_type": "code",
   "execution_count": 881,
   "metadata": {},
   "outputs": [
    {
     "data": {
      "text/plain": [
       "['Null', 2, 4]"
      ]
     },
     "execution_count": 881,
     "metadata": {},
     "output_type": "execute_result"
    }
   ],
   "source": [
    "lista_tr"
   ]
  },
  {
   "cell_type": "code",
   "execution_count": 908,
   "metadata": {},
   "outputs": [],
   "source": [
    "for i in lista_tr:\n",
    "    if i!='Null':\n",
    "        left_tr(i,lista3,7,lista_tr[2])"
   ]
  },
  {
   "cell_type": "code",
   "execution_count": 909,
   "metadata": {},
   "outputs": [
    {
     "data": {
      "text/plain": [
       "['Null', 'Null']"
      ]
     },
     "execution_count": 909,
     "metadata": {},
     "output_type": "execute_result"
    }
   ],
   "source": [
    "right_tr(8,lista3,7,7)"
   ]
  },
  {
   "cell_type": "code",
   "execution_count": 910,
   "metadata": {},
   "outputs": [
    {
     "data": {
      "text/plain": [
       "[7, 8]"
      ]
     },
     "execution_count": 910,
     "metadata": {},
     "output_type": "execute_result"
    }
   ],
   "source": [
    "lista3"
   ]
  },
  {
   "cell_type": "code",
   "execution_count": null,
   "metadata": {},
   "outputs": [],
   "source": []
  },
  {
   "cell_type": "code",
   "execution_count": null,
   "metadata": {},
   "outputs": [],
   "source": []
  }
 ],
 "metadata": {
  "kernelspec": {
   "display_name": "Python 3",
   "language": "python",
   "name": "python3"
  },
  "language_info": {
   "codemirror_mode": {
    "name": "ipython",
    "version": 3
   },
   "file_extension": ".py",
   "mimetype": "text/x-python",
   "name": "python",
   "nbconvert_exporter": "python",
   "pygments_lexer": "ipython3",
   "version": "3.6.3"
  }
 },
 "nbformat": 4,
 "nbformat_minor": 2
}
