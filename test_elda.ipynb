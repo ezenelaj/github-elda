{
 "cells": [
  {
   "cell_type": "code",
   "execution_count": 2,
   "metadata": {},
   "outputs": [],
   "source": [
    "def shum():\n",
    "    inp=list(map(int,input(\"provide numbers\").split(\" \")))\n",
    "    return max(inp)"
   ]
  },
  {
   "cell_type": "code",
   "execution_count": 34,
   "metadata": {},
   "outputs": [],
   "source": [
    "def over_circ(xc,yc,r,xp,yp):\n",
    "    import math\n",
    "    l=0\n",
    "    #coordinates=list(map(int,input(\"provide coordinates\").split(\" \")))\n",
    "    #if (math.pow((coordinates[0]-xc),2) + math.pow((coordinates[1]-yc),2)) <=math.pow(r,2):\n",
    "    if (math.pow((xp-xc),2) + math.pow((yp-yc),2)) <=math.pow(r,2):\n",
    "        l=l+1\n",
    "    return l"
   ]
  },
  {
   "cell_type": "code",
   "execution_count": 165,
   "metadata": {},
   "outputs": [],
   "source": [
    "def list_circ():\n",
    "    num_circles=int(input(\"number of circles\"))\n",
    "    k=0\n",
    "    list_circles=[]\n",
    "    while k<num_circles:\n",
    "        circ_dim=list(map(int,input(\"provide circle center and radius\").split(\" \")))\n",
    "        list_circles.append(circ_dim)\n",
    "        k=k+1\n",
    "        \n",
    "    num_points=int(input(\"number of points\"))\n",
    "    k=0\n",
    "    list_points=[]\n",
    "    while k<num_points:\n",
    "        coordinates=list(map(int,input(\"provide coordinates\").split(\" \")))\n",
    "        list_points.append(coordinates)\n",
    "        k=k+1\n",
    "    list_over=[] \n",
    "    top=int(input(\"provide top m circle to display\"))\n",
    "    for i in list_circles:\n",
    "        m=0\n",
    "        for j in list_points:\n",
    "            res=over_circ(i[0],i[1],i[2],j[0],j[1])\n",
    "            m=m+res\n",
    "        list_over.append(m)\n",
    "    new_dict = dict(zip(list_over,list_circles))\n",
    "    els = list(new_dict.items())\n",
    "    print (els[top:top])\n",
    "    #return list_points,list_circles"
   ]
  },
  {
   "cell_type": "code",
   "execution_count": 201,
   "metadata": {},
   "outputs": [],
   "source": [
    "def convert():\n",
    "    import math\n",
    "    sum=0\n",
    "    num_base=list(map(int,input(\"provide length and base\").split(\" \")))\n",
    "    num=(input(\"provide number\"))\n",
    "    k=num_base[0]-1\n",
    "    for i in num:\n",
    "        sum=sum+(int(i)*math.pow(num_base[1],k))\n",
    "        k=k-1\n",
    "    return sum"
   ]
  },
  {
   "cell_type": "code",
   "execution_count": 237,
   "metadata": {},
   "outputs": [],
   "source": [
    "def div11(n):\n",
    "    sum_odd=0\n",
    "    sum_even=0\n",
    "    for i in range(0,len(str(n))):\n",
    "        if i%2==0:\n",
    "            sum_even=sum_even+int(str(n)[i])\n",
    "        else:\n",
    "            sum_odd=sum_odd+int(str(n)[i])\n",
    "    if (sum_odd-sum_even)%11==0:\n",
    "        print (\"YES\")\n",
    "    else:\n",
    "        print (\"NO\")"
   ]
  },
  {
   "cell_type": "code",
   "execution_count": 593,
   "metadata": {},
   "outputs": [],
   "source": [
    "lista=[84, 84, 84, 126, 126 ,126 ,32, 32, 126, 126 ,32 ,32, 32, 126, 126, 126, 126, 32, 32 ,32 ]"
   ]
  },
  {
   "cell_type": "code",
   "execution_count": 595,
   "metadata": {},
   "outputs": [],
   "source": [
    "def img_comp(list_num):\n",
    "    num=lista[0]\n",
    "    k=0\n",
    "    for i in range(len(lista)):\n",
    "        if lista[i]==num:\n",
    "            k=k+1\n",
    "            if i==len(lista)-1:\n",
    "                print (k,lista[i-1],end='')\n",
    "        else:\n",
    "            print (k,lista[i-1],\" \",end='',)\n",
    "            k=1\n",
    "            num=lista[i]"
   ]
  },
  {
   "cell_type": "code",
   "execution_count": 886,
   "metadata": {},
   "outputs": [],
   "source": [
    "def binary_conv(n):\n",
    "    bi=[]\n",
    "    if n>0:\n",
    "        k=int(n/2)\n",
    "        m=n%2\n",
    "        bi.append(m)\n",
    "        if k==0:\n",
    "            return 1\n",
    "        else:\n",
    "            while k>0:\n",
    "                m=k%2\n",
    "                k=int(k/2)\n",
    "                bi.append(m)\n",
    "                s=0\n",
    "            for i in bi:\n",
    "                if i==1:\n",
    "                    s=s+1\n",
    "            return s\n",
    "    else:\n",
    "         return 0"
   ]
  },
  {
   "cell_type": "code",
   "execution_count": 897,
   "metadata": {},
   "outputs": [
    {
     "name": "stdout",
     "output_type": "stream",
     "text": [
      "0 0\n",
      "1 1\n",
      "2 1\n",
      "3 2\n",
      "4 1\n",
      "5 2\n",
      "6 2\n",
      "7 3\n",
      "8 1\n",
      "9 2\n",
      "10 2\n",
      "11 3\n",
      "12 2\n",
      "13 3\n",
      "14 3\n",
      "15 4\n",
      "16 1\n",
      "17 2\n",
      "18 2\n",
      "19 3\n",
      "20 2\n",
      "21 3\n",
      "22 3\n",
      "23 4\n",
      "24 2\n",
      "25 3\n",
      "26 3\n",
      "27 4\n",
      "28 3\n",
      "29 4\n"
     ]
    }
   ],
   "source": [
    "for i in range(0,30):\n",
    "    print (i,binary_conv(i))\n",
    "    "
   ]
  },
  {
   "cell_type": "code",
   "execution_count": 13,
   "metadata": {},
   "outputs": [],
   "source": [
    "def binary_conv1(n,bi):\n",
    "    if n>0:\n",
    "        m=n%2\n",
    "        k=int(n/2)\n",
    "        if m==1:\n",
    "            bi.append(m)\n",
    "        binary_conv1(k,bi)   \n",
    "    return len(bi)"
   ]
  },
  {
   "cell_type": "code",
   "execution_count": 40,
   "metadata": {},
   "outputs": [],
   "source": [
    "def swap(list_in,l,r):\n",
    "            left=list_in[l]\n",
    "            right=list_in[r]\n",
    "            list_in[l]=right\n",
    "            list_in[r]=left\n",
    "            \n",
    "def bitsort_list(list_num,list_bit):            \n",
    "    for i in range(len(list2)):\n",
    "        for j in range(i+1,len(list2)):\n",
    "            if list2[i]>list2[j]:\n",
    "                swap(list2,i,j)\n",
    "                swap(list1,i,j)\n",
    "                break\n",
    "            if list2[i]==list2[j]:\n",
    "                if list1[i]>list1[j]:\n",
    "                    swap(list1,i,j)\n",
    "    return list_num\n",
    "\n",
    "def bitsort(n,k):\n",
    "    list_num=list(i for i in range(0,n+1))\n",
    "    list_bit=list(binary_conv1(i,[]) for i in range(0,n+1))\n",
    "    return bitsort_list(list_num,list_bit)"
   ]
  },
  {
   "cell_type": "code",
   "execution_count": 39,
   "metadata": {},
   "outputs": [
    {
     "data": {
      "text/plain": [
       "5"
      ]
     },
     "execution_count": 39,
     "metadata": {},
     "output_type": "execute_result"
    }
   ],
   "source": [
    "list1=[0,1,2,3,4,5,6,7,8,9,10]\n",
    "list2=[0,1,1,2,1,2,2,3,1,2,2]\n",
    "bitsort_list(list1,list2)[6]"
   ]
  },
  {
   "cell_type": "code",
   "execution_count": 42,
   "metadata": {},
   "outputs": [],
   "source": [
    "list_num=list(i for i in range(0,11))"
   ]
  },
  {
   "cell_type": "code",
   "execution_count": 43,
   "metadata": {},
   "outputs": [
    {
     "data": {
      "text/plain": [
       "[0, 1, 2, 3, 4, 5, 6, 7, 8, 9, 10]"
      ]
     },
     "execution_count": 43,
     "metadata": {},
     "output_type": "execute_result"
    }
   ],
   "source": [
    "list_num"
   ]
  },
  {
   "cell_type": "code",
   "execution_count": 132,
   "metadata": {},
   "outputs": [],
   "source": [
    "lista=[3, -5, -3, 0, 1, -1, 9, 3, -7, 10, -17 ]"
   ]
  },
  {
   "cell_type": "code",
   "execution_count": 133,
   "metadata": {},
   "outputs": [],
   "source": [
    "def max_seq(lista):\n",
    "    fin_list=[]\n",
    "    sum_list=[]\n",
    "    for i in range(0,len(lista)):\n",
    "        for j in range(len(lista)):\n",
    "            if len(lista[j:i+j+1]) >i:\n",
    "                fin_list.append(lista[j:i+j+1])\n",
    "                sum_list.append(sum(lista[j:i+j+1]))\n",
    "    for i in range(len(sum_list)):\n",
    "        if sum_list[i]==max(sum_list):\n",
    "            print (fin_list[i],sum_list[i])"
   ]
  },
  {
   "cell_type": "code",
   "execution_count": 134,
   "metadata": {},
   "outputs": [
    {
     "name": "stdout",
     "output_type": "stream",
     "text": [
      "[9, 3, -7, 10] 15\n",
      "[1, -1, 9, 3, -7, 10] 15\n",
      "[0, 1, -1, 9, 3, -7, 10] 15\n"
     ]
    }
   ],
   "source": [
    "max_seq(lista)"
   ]
  },
  {
   "cell_type": "code",
   "execution_count": 137,
   "metadata": {},
   "outputs": [],
   "source": [
    "def max_seq1(lista):\n",
    "    max_sum=lista[0]\n",
    "    for i in range(0,len(lista)):\n",
    "        for j in range(len(lista)):\n",
    "            if len(lista[j:i+j+1]) >i and sum(lista[j:i+j+1])>=max_sum:\n",
    "                max_sum=sum(lista[j:i+j+1])\n",
    "                list_max=lista[j:i+j+1]\n",
    "    return max_sum"
   ]
  },
  {
   "cell_type": "code",
   "execution_count": 138,
   "metadata": {},
   "outputs": [
    {
     "data": {
      "text/plain": [
       "15"
      ]
     },
     "execution_count": 138,
     "metadata": {},
     "output_type": "execute_result"
    }
   ],
   "source": [
    "max_seq1(lista)"
   ]
  },
  {
   "cell_type": "code",
   "execution_count": 72,
   "metadata": {},
   "outputs": [],
   "source": [
    "def geo_sum(n):\n",
    "    if n>1:\n",
    "        return 1/n-1\n",
    "    if n ==1:\n",
    "        return 1\n",
    "    if n==0:\n",
    "        return 0\n",
    "    "
   ]
  },
  {
   "cell_type": "code",
   "execution_count": 73,
   "metadata": {},
   "outputs": [
    {
     "data": {
      "text/plain": [
       "0"
      ]
     },
     "execution_count": 73,
     "metadata": {},
     "output_type": "execute_result"
    }
   ],
   "source": [
    "geo_sum(0)"
   ]
  },
  {
   "cell_type": "code",
   "execution_count": null,
   "metadata": {},
   "outputs": [],
   "source": []
  }
 ],
 "metadata": {
  "kernelspec": {
   "display_name": "Python 3",
   "language": "python",
   "name": "python3"
  },
  "language_info": {
   "codemirror_mode": {
    "name": "ipython",
    "version": 3
   },
   "file_extension": ".py",
   "mimetype": "text/x-python",
   "name": "python",
   "nbconvert_exporter": "python",
   "pygments_lexer": "ipython3",
   "version": "3.6.3"
  }
 },
 "nbformat": 4,
 "nbformat_minor": 2
}
