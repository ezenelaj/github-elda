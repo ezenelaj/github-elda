{
 "cells": [
  {
   "cell_type": "code",
   "execution_count": 21,
   "metadata": {},
   "outputs": [],
   "source": [
    "def sum_of_num():\n",
    "    lista=[]\n",
    "    sum1=0\n",
    "    n=input(\"provide n numbers\")\n",
    "    j=0\n",
    "    while j<int(n):\n",
    "        lista.append(input())\n",
    "        j=j+1\n",
    "    a=input(\"start position\")\n",
    "    b=input(\"stop position\")\n",
    "    if int(a)>=1 and int(a)<=int(b) and int(b)<=int(n):\n",
    "        \n",
    "        for i in range(int(a),int(b)+1):\n",
    "            sum1=sum1+int(lista[i])\n",
    "            print (lista[i])\n",
    "    else:\n",
    "        return (\"start should be smaller than stop, stop should be smaller than\", int(n))\n",
    "    return sum1"
   ]
  },
  {
   "cell_type": "code",
   "execution_count": 22,
   "metadata": {},
   "outputs": [
    {
     "name": "stdout",
     "output_type": "stream",
     "text": [
      "provide n numbers4\n",
      "2\n",
      "8\n",
      "9\n",
      "7\n",
      "start position1\n",
      "stop position5\n"
     ]
    },
    {
     "data": {
      "text/plain": [
       "('start should be smaller than stop, stop should be smaller than', 4)"
      ]
     },
     "execution_count": 22,
     "metadata": {},
     "output_type": "execute_result"
    }
   ],
   "source": [
    "sum_of_num()"
   ]
  },
  {
   "cell_type": "code",
   "execution_count": null,
   "metadata": {},
   "outputs": [],
   "source": []
  }
 ],
 "metadata": {
  "kernelspec": {
   "display_name": "Python 3",
   "language": "python",
   "name": "python3"
  },
  "language_info": {
   "codemirror_mode": {
    "name": "ipython",
    "version": 3
   },
   "file_extension": ".py",
   "mimetype": "text/x-python",
   "name": "python",
   "nbconvert_exporter": "python",
   "pygments_lexer": "ipython3",
   "version": "3.6.3"
  }
 },
 "nbformat": 4,
 "nbformat_minor": 2
}
