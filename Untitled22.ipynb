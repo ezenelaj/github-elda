{
 "cells": [
  {
   "cell_type": "code",
   "execution_count": 3,
   "metadata": {},
   "outputs": [],
   "source": [
    "def swap(array,k,l):\n",
    "        m=array[k]\n",
    "        n=array[l]\n",
    "        array[k]=n\n",
    "        array[l]=m\n",
    "        \n",
    "def heapify_n(array,k,n):\n",
    "    left=2*k+1\n",
    "    right=2*k+2\n",
    "    limit=len(array)-1-n\n",
    "    k_max=int(limit/2)-1-n\n",
    " \n",
    "    if right<=limit:\n",
    "        \n",
    "        if array[k]<array[left]:\n",
    "                             \n",
    "                if array[right]>array[left]:\n",
    "                    swap(array,k,right)\n",
    "                    k_next=right\n",
    "                  \n",
    "                    if k_next<=k_max:\n",
    "                           heapify_n(array,k_next,n)\n",
    "                  \n",
    "                else:  \n",
    "                    \n",
    "                    swap(array,k,left)\n",
    "                    k_next=left\n",
    "                    if k_next<=k_max:\n",
    "                           heapify_n(array,k_next,n)\n",
    "                    \n",
    "        else: \n",
    "            if array[k]<array[right]:\n",
    "               \n",
    "                swap(array,k,right)\n",
    "                k_next=right\n",
    "                if k_next<=k_max:\n",
    "                           heapify_n(array,k_next,n)\n",
    "                                      \n",
    "    else:\n",
    "        if array[k]<array[left]:\n",
    "          \n",
    "            swap(array,k,left)\n",
    "            k_next=left\n",
    "            if k_next<=k_max:\n",
    "                           heapify_n(array,k_next,n)\n",
    "                    \n",
    "def heap_max(array,n):\n",
    "    \n",
    "    k=int((len(lista)-n)/2)-1\n",
    "    while k>=0:\n",
    "        heapify_n(array,k,n)\n",
    "        k=k-1\n",
    "    return array\n",
    "\n",
    "def heap_sort(array):\n",
    "    heap_max(array,0)\n",
    "    for i in range (1,len(array)):\n",
    "        swap(array,0,len(array)-i)\n",
    "        heap_max(array,i)\n",
    "    return array\n",
    "    "
   ]
  },
  {
   "cell_type": "code",
   "execution_count": 16,
   "metadata": {},
   "outputs": [],
   "source": [
    "lista=[1,16,5,30,27,17,20,2,57,3,90,46,49,52]"
   ]
  },
  {
   "cell_type": "code",
   "execution_count": 12,
   "metadata": {},
   "outputs": [
    {
     "data": {
      "text/plain": [
       "[90, 57, 49, 30, 27, 46, 20, 2, 1, 3, 16, 5, 17]"
      ]
     },
     "execution_count": 12,
     "metadata": {},
     "output_type": "execute_result"
    }
   ],
   "source": [
    "heap_max(lista,0)"
   ]
  },
  {
   "cell_type": "code",
   "execution_count": 13,
   "metadata": {},
   "outputs": [],
   "source": [
    "swap(lista,0,9)"
   ]
  },
  {
   "cell_type": "code",
   "execution_count": 14,
   "metadata": {},
   "outputs": [
    {
     "data": {
      "text/plain": [
       "[3, 57, 49, 30, 27, 46, 20, 2, 1, 90, 16, 5, 17]"
      ]
     },
     "execution_count": 14,
     "metadata": {},
     "output_type": "execute_result"
    }
   ],
   "source": [
    "lista"
   ]
  },
  {
   "cell_type": "code",
   "execution_count": 15,
   "metadata": {},
   "outputs": [],
   "source": [
    "for i in range (1,len(lista)):\n",
    "    swap(lista,0,len(lista)-i)\n",
    "    heap_max(lista,i)"
   ]
  },
  {
   "cell_type": "code",
   "execution_count": 9,
   "metadata": {},
   "outputs": [
    {
     "data": {
      "text/plain": [
       "[1, 2, 5, 16, 17, 20, 27, 30, 46, 57, 90, 3]"
      ]
     },
     "execution_count": 9,
     "metadata": {},
     "output_type": "execute_result"
    }
   ],
   "source": [
    "lista"
   ]
  },
  {
   "cell_type": "code",
   "execution_count": 10,
   "metadata": {},
   "outputs": [
    {
     "data": {
      "text/plain": [
       "[1, 2, 3, 5, 16, 17, 20, 27, 30, 46, 57, 90]"
      ]
     },
     "execution_count": 10,
     "metadata": {},
     "output_type": "execute_result"
    }
   ],
   "source": [
    "heap_sort(lista)"
   ]
  },
  {
   "cell_type": "code",
   "execution_count": null,
   "metadata": {},
   "outputs": [],
   "source": []
  },
  {
   "cell_type": "code",
   "execution_count": null,
   "metadata": {},
   "outputs": [],
   "source": []
  }
 ],
 "metadata": {
  "kernelspec": {
   "display_name": "Python 3",
   "language": "python",
   "name": "python3"
  },
  "language_info": {
   "codemirror_mode": {
    "name": "ipython",
    "version": 3
   },
   "file_extension": ".py",
   "mimetype": "text/x-python",
   "name": "python",
   "nbconvert_exporter": "python",
   "pygments_lexer": "ipython3",
   "version": "3.6.3"
  }
 },
 "nbformat": 4,
 "nbformat_minor": 2
}
