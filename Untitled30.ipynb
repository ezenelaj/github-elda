{
 "cells": [
  {
   "cell_type": "code",
   "execution_count": 1,
   "metadata": {},
   "outputs": [],
   "source": [
    "sec1=[1,5,3,4,7,2,6]\n",
    "sec2=[1,5,2,3,7,4,9]"
   ]
  },
  {
   "cell_type": "code",
   "execution_count": 2,
   "metadata": {},
   "outputs": [],
   "source": [
    "def dna_dist():\n",
    "    n=input(\"sequence length\")\n",
    "    dist=0\n",
    "    sec1=input(\"secuence1\")\n",
    "    sec2=input(\"secuence2\")\n",
    "    for i in range(len(sec1)):\n",
    "        if sec1[i] in sec2:\n",
    "            for j in range(len(sec2)):\n",
    "                if sec2[j]==sec1[i] and j<=len(sec2):\n",
    "                    dist=dist+(abs(i-j))\n",
    "        else:\n",
    "               dist=dist+len(sec2)\n",
    "    return dist\n",
    "            "
   ]
  },
  {
   "cell_type": "code",
   "execution_count": 48,
   "metadata": {},
   "outputs": [
    {
     "name": "stdout",
     "output_type": "stream",
     "text": [
      "sequence length6\n",
      "secuence11,5,3,4,7,2\n",
      "secuence21,5,2,3,7,4\n"
     ]
    },
    {
     "data": {
      "text/plain": [
       "92"
      ]
     },
     "execution_count": 48,
     "metadata": {},
     "output_type": "execute_result"
    }
   ],
   "source": [
    "dna_dist()"
   ]
  },
  {
   "cell_type": "code",
   "execution_count": null,
   "metadata": {},
   "outputs": [],
   "source": [
    "def input_sec():\n",
    "    sec1=[]\n",
    "    sec2=[]\n",
    "    j=0\n",
    "    n=int(input(\"sequence length\"))\n",
    "    if 1<=n<=2000:\n",
    "        while j<n:\n",
    "            j=j+1\n",
    "            s=input(\"\")\n",
    "            sec1.append(int(s))\n",
    "            \n",
    "        j=0\n",
    "        while j<n:\n",
    "            j=j+1\n",
    "            s=input(\"\")\n",
    "            sec2.append(int(s))\n",
    "        \n",
    "    else:\n",
    "        return"
   ]
  },
  {
   "cell_type": "code",
   "execution_count": null,
   "metadata": {},
   "outputs": [],
   "source": [
    "input_sec()"
   ]
  },
  {
   "cell_type": "code",
   "execution_count": null,
   "metadata": {},
   "outputs": [],
   "source": [
    "def input_sec():\n",
    "    sec1=[]\n",
    "    sec2=[]\n",
    "    j=0\n",
    "    n=int(input(\"sequence length\"))\n",
    "    if 1<=n<=2000:\n",
    "        while j<n:\n",
    "            j=j+1\n",
    "            s=input(\"\")\n",
    "            sec1.append(int(s))\n",
    "        \n",
    "    else:\n",
    "        exit"
   ]
  },
  {
   "cell_type": "code",
   "execution_count": null,
   "metadata": {},
   "outputs": [],
   "source": []
  }
 ],
 "metadata": {
  "kernelspec": {
   "display_name": "Python 3",
   "language": "python",
   "name": "python3"
  },
  "language_info": {
   "codemirror_mode": {
    "name": "ipython",
    "version": 3
   },
   "file_extension": ".py",
   "mimetype": "text/x-python",
   "name": "python",
   "nbconvert_exporter": "python",
   "pygments_lexer": "ipython3",
   "version": "3.6.3"
  }
 },
 "nbformat": 4,
 "nbformat_minor": 2
}
