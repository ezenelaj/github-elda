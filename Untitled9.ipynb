{
 "cells": [
  {
   "cell_type": "code",
   "execution_count": 22,
   "metadata": {},
   "outputs": [],
   "source": [
    "def laplas():\n",
    "    \n",
    "    def neigh_matrix(x,y,matri,xd,yd):\n",
    "        \n",
    "        if y-1<0:\n",
    "            left_ne=matri[x,y]\n",
    "        else:\n",
    "            left_ne=matri[x,y-1]\n",
    "        \n",
    "        \n",
    "        if y+1>yd-1:\n",
    "            right_ne=matri[x,y]\n",
    "        else:\n",
    "            right_ne=matri[x,y+1]\n",
    "       \n",
    "    \n",
    "        if x-1<0:\n",
    "            up_ne=matri[x,y]\n",
    "        else:\n",
    "            up_ne=matri[x-1,y]\n",
    "        \n",
    "        \n",
    "        if x+1>xd:\n",
    "            down_ne=matri[x,y]\n",
    "        else:\n",
    "            down_ne=matri[x+1,y]\n",
    "                          \n",
    "        new_lapl=4*(matri[x,y])-(left_ne+right_ne+down_ne+up_ne)\n",
    "        return new_lapl\n",
    "                      \n",
    "    import numpy as np\n",
    "    dimen=list(map(int,input(\"provide matrix dimensions\").split(\" \")))\n",
    "    mat_inp=list(map(int,input(\"matrix elements\").split(\" \")))\n",
    "    matrix=np.array(mat_inp).reshape(dimen[0],dimen[1])\n",
    "    nr_cells=int(input(\"number of cells to filter\"))\n",
    "    nr_cell=[]\n",
    "    k=0\n",
    "    while k<nr_cells:\n",
    "        nr_cell.append(list(map(int,input(\"\").split(\" \"))))\n",
    "        k=k+1\n",
    "\n",
    "    for i in nr_cell:\n",
    "        print (neigh_matrix(i[0],i[1],matrix,dimen[0],dimen[1]))\n",
    "   "
   ]
  },
  {
   "cell_type": "code",
   "execution_count": 20,
   "metadata": {},
   "outputs": [
    {
     "name": "stdout",
     "output_type": "stream",
     "text": [
      "provide matrix dimensions3 3\n",
      "matrix elements4 5 9 8 7 1 2 3 0\n",
      "number of cells to filter2\n",
      "0 1\n",
      "1 1\n",
      "-5\n",
      "11\n"
     ]
    }
   ],
   "source": [
    "laplas()"
   ]
  },
  {
   "cell_type": "code",
   "execution_count": 54,
   "metadata": {},
   "outputs": [],
   "source": [
    "lista=[7,3,8,8,1,0,2,7,4,4,4,5,2,6,5]"
   ]
  },
  {
   "cell_type": "code",
   "execution_count": 139,
   "metadata": {},
   "outputs": [],
   "source": [
    "def neigh_sum(k,num_list,shum,n):\n",
    "    if k+n<len(num_list):\n",
    "    \n",
    "        if shum+num_list[n+k] < shum+num_list[k+n+1]:\n",
    "                shum=shum+num_list[k+n]\n",
    "                k=k+n\n",
    "        else:\n",
    "                shum=shum+num_list[k+n+1]\n",
    "                k=k+n+1\n",
    "        n=n+1\n",
    "        print (shum)\n",
    "        neigh_sum(k,num_list,shum,n)"
   ]
  },
  {
   "cell_type": "code",
   "execution_count": 140,
   "metadata": {},
   "outputs": [
    {
     "name": "stdout",
     "output_type": "stream",
     "text": [
      "10\n",
      "11\n",
      "15\n",
      "17\n"
     ]
    }
   ],
   "source": [
    "neigh_sum(0,lista,7,1)"
   ]
  },
  {
   "cell_type": "code",
   "execution_count": 141,
   "metadata": {},
   "outputs": [],
   "source": [
    "def triangle(num_list):\n",
    "    n=1\n",
    "    shum=num_list[0]\n",
    "    k=0\n",
    "    neigh_sum(k,num_list,shum,n)\n",
    "    "
   ]
  },
  {
   "cell_type": "code",
   "execution_count": 142,
   "metadata": {},
   "outputs": [
    {
     "name": "stdout",
     "output_type": "stream",
     "text": [
      "10\n",
      "11\n",
      "15\n",
      "17\n"
     ]
    }
   ],
   "source": [
    "triangle(lista)"
   ]
  },
  {
   "cell_type": "code",
   "execution_count": null,
   "metadata": {},
   "outputs": [],
   "source": []
  }
 ],
 "metadata": {
  "kernelspec": {
   "display_name": "Python 3",
   "language": "python",
   "name": "python3"
  },
  "language_info": {
   "codemirror_mode": {
    "name": "ipython",
    "version": 3
   },
   "file_extension": ".py",
   "mimetype": "text/x-python",
   "name": "python",
   "nbconvert_exporter": "python",
   "pygments_lexer": "ipython3",
   "version": "3.6.3"
  }
 },
 "nbformat": 4,
 "nbformat_minor": 2
}
