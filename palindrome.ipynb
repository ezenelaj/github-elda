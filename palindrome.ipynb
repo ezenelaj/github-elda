{
 "cells": [
  {
   "cell_type": "code",
   "execution_count": 146,
   "metadata": {},
   "outputs": [],
   "source": [
    "string='aba'"
   ]
  },
  {
   "cell_type": "code",
   "execution_count": 147,
   "metadata": {},
   "outputs": [],
   "source": [
    "def palindrome(string):\n",
    "    \n",
    "    str_list=[]\n",
    "    list_inv=[]\n",
    "    k=0\n",
    "    for i in string:\n",
    "        str_list.append(i)\n",
    "    for i in range(len(str_list)-1,-1,-1):\n",
    "        list_inv.append(str_list[i])\n",
    "    for i in range(len(str_list)):\n",
    "        if str_list[i]!=list_inv[i]:\n",
    "            k=k+1\n",
    "            \n",
    "    return k   "
   ]
  },
  {
   "cell_type": "code",
   "execution_count": 148,
   "metadata": {},
   "outputs": [
    {
     "data": {
      "text/plain": [
       "0"
      ]
     },
     "execution_count": 148,
     "metadata": {},
     "output_type": "execute_result"
    }
   ],
   "source": [
    "palindrome(string)"
   ]
  },
  {
   "cell_type": "code",
   "execution_count": 149,
   "metadata": {},
   "outputs": [],
   "source": [
    "def palindrome1(string):\n",
    "    str_list=[]\n",
    "    k=0\n",
    "    for i in string:\n",
    "        str_list.append(i)\n",
    "    for i in range(int(len(str_list)/2)):\n",
    "        if str_list[i]!=str_list[len(str_list)-1-i]:\n",
    "            k=k+1\n",
    "            \n",
    "    return 2*k"
   ]
  },
  {
   "cell_type": "code",
   "execution_count": 150,
   "metadata": {},
   "outputs": [
    {
     "data": {
      "text/plain": [
       "0"
      ]
     },
     "execution_count": 150,
     "metadata": {},
     "output_type": "execute_result"
    }
   ],
   "source": [
    "palindrome1(string)"
   ]
  },
  {
   "cell_type": "code",
   "execution_count": null,
   "metadata": {},
   "outputs": [],
   "source": []
  },
  {
   "cell_type": "code",
   "execution_count": null,
   "metadata": {},
   "outputs": [],
   "source": []
  }
 ],
 "metadata": {
  "kernelspec": {
   "display_name": "Python 3",
   "language": "python",
   "name": "python3"
  },
  "language_info": {
   "codemirror_mode": {
    "name": "ipython",
    "version": 3
   },
   "file_extension": ".py",
   "mimetype": "text/x-python",
   "name": "python",
   "nbconvert_exporter": "python",
   "pygments_lexer": "ipython3",
   "version": "3.6.3"
  }
 },
 "nbformat": 4,
 "nbformat_minor": 2
}
