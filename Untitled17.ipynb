{
 "cells": [
  {
   "cell_type": "code",
   "execution_count": 346,
   "metadata": {},
   "outputs": [],
   "source": [
    "list1=[14, 7, 3, 12, 9, 11, 6, 2]"
   ]
  },
  {
   "cell_type": "code",
   "execution_count": 347,
   "metadata": {},
   "outputs": [],
   "source": [
    "def merge(h1,h2):\n",
    "    i=0\n",
    "    j=0\n",
    "    k=0\n",
    "    h=len(h1)+len(h2)\n",
    "    lista=[]\n",
    "    while k<h:\n",
    "    \n",
    "        if i<len(h1) and j<len(h2):\n",
    "                if h1[i]>h2[j]:\n",
    "                    lista.append(h2[j])\n",
    "                    j=j+1\n",
    "                    if j==(len(h2)):\n",
    "                        while i<len(h1):\n",
    "                                lista.append(h1[i])\n",
    "                                i=i+1\n",
    "                else:\n",
    "                    lista.append(h1[i])\n",
    "                    i=i+1 \n",
    "                    if i==(len(h1)):\n",
    "                        while j<len(h2):\n",
    "                                lista.append(h2[j])\n",
    "                                j=j+1\n",
    "        \n",
    "        k=k+1\n",
    "    return lista"
   ]
  },
  {
   "cell_type": "code",
   "execution_count": 349,
   "metadata": {},
   "outputs": [],
   "source": [
    "p=0\n",
    "r=7\n",
    "q=int((p+r)/2)"
   ]
  },
  {
   "cell_type": "code",
   "execution_count": 362,
   "metadata": {},
   "outputs": [],
   "source": [
    "list1=[14, 7, 3, 12, 9, 11, 6, 2, 8]"
   ]
  },
  {
   "cell_type": "code",
   "execution_count": 386,
   "metadata": {},
   "outputs": [],
   "source": [
    "p=0\n",
    "r=len(list1)-1\n",
    "q=int((p+r)/2)"
   ]
  },
  {
   "cell_type": "code",
   "execution_count": 387,
   "metadata": {},
   "outputs": [],
   "source": []
  },
  {
   "cell_type": "code",
   "execution_count": 388,
   "metadata": {},
   "outputs": [
    {
     "data": {
      "text/plain": [
       "[4, 2, 1, 0, 4]"
      ]
     },
     "execution_count": 388,
     "metadata": {},
     "output_type": "execute_result"
    }
   ],
   "source": [
    "qlist"
   ]
  },
  {
   "cell_type": "code",
   "execution_count": 367,
   "metadata": {},
   "outputs": [
    {
     "name": "stdout",
     "output_type": "stream",
     "text": [
      "9\n",
      "3\n",
      "7\n",
      "14\n"
     ]
    }
   ],
   "source": [
    "for i in qlist:\n",
    "    print (list1[i])"
   ]
  },
  {
   "cell_type": "code",
   "execution_count": null,
   "metadata": {},
   "outputs": [],
   "source": []
  }
 ],
 "metadata": {
  "kernelspec": {
   "display_name": "Python 3",
   "language": "python",
   "name": "python3"
  },
  "language_info": {
   "codemirror_mode": {
    "name": "ipython",
    "version": 3
   },
   "file_extension": ".py",
   "mimetype": "text/x-python",
   "name": "python",
   "nbconvert_exporter": "python",
   "pygments_lexer": "ipython3",
   "version": "3.6.3"
  }
 },
 "nbformat": 4,
 "nbformat_minor": 2
}
