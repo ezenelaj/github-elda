{
 "cells": [
  {
   "cell_type": "code",
   "execution_count": 3,
   "metadata": {},
   "outputs": [],
   "source": [
    "def partion(lista):\n",
    "    pivot=lista[0]\n",
    "    j=len(lista)-1\n",
    "    i=1\n",
    "    while i<j:\n",
    "        if lista[i]<pivot:\n",
    "            i=i+1\n",
    "        else:\n",
    "            while lista[j]>pivot:\n",
    "                j=j-1         \n",
    "            else:\n",
    "                k=lista[i]\n",
    "                l=lista[j]\n",
    "                lista[i]=l\n",
    "                lista[j]=k\n",
    "                i=i+1    \n",
    "    if i==j:\n",
    "            k=pivot\n",
    "            l=lista[j-1]\n",
    "            lista[0]=l\n",
    "            lista[j-1]=k \n",
    "    return lista"
   ]
  },
  {
   "cell_type": "code",
   "execution_count": 4,
   "metadata": {},
   "outputs": [],
   "source": [
    "lista=[12,26,17,15,93,77,31,44,55,57,29]"
   ]
  },
  {
   "cell_type": "code",
   "execution_count": 5,
   "metadata": {},
   "outputs": [
    {
     "data": {
      "text/plain": [
       "[26, 12, 17, 15, 93, 77, 31, 44, 55, 57, 29]"
      ]
     },
     "execution_count": 5,
     "metadata": {},
     "output_type": "execute_result"
    }
   ],
   "source": [
    "partion(lista)"
   ]
  },
  {
   "cell_type": "code",
   "execution_count": 6,
   "metadata": {},
   "outputs": [],
   "source": [
    "lista=[12,26,17,15,93,77,3,44,55,57]"
   ]
  },
  {
   "cell_type": "code",
   "execution_count": 7,
   "metadata": {},
   "outputs": [
    {
     "data": {
      "text/plain": [
       "[12, 17, 3, 15, 93, 77, 26, 44, 55, 57]"
      ]
     },
     "execution_count": 7,
     "metadata": {},
     "output_type": "execute_result"
    }
   ],
   "source": [
    "partion(lista)"
   ]
  },
  {
   "cell_type": "code",
   "execution_count": null,
   "metadata": {},
   "outputs": [],
   "source": []
  }
 ],
 "metadata": {
  "kernelspec": {
   "display_name": "Python 3",
   "language": "python",
   "name": "python3"
  },
  "language_info": {
   "codemirror_mode": {
    "name": "ipython",
    "version": 3
   },
   "file_extension": ".py",
   "mimetype": "text/x-python",
   "name": "python",
   "nbconvert_exporter": "python",
   "pygments_lexer": "ipython3",
   "version": "3.6.3"
  }
 },
 "nbformat": 4,
 "nbformat_minor": 2
}
