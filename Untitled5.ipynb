{
 "cells": [
  {
   "cell_type": "code",
   "execution_count": null,
   "metadata": {},
   "outputs": [],
   "source": [
    "import requests\n",
    "from bs4 import BeautifulSoup\n",
    "print (\"test\")\n",
    "r=requests.get(\"https://www.freshline.gr/en/fresh-bar/exfoliating-sorbets/\")\n",
    "c=r.content\n",
    "soup=BeautifulSoup(c,\"html.parser\")\n",
    "s1=soup.find_all(\"div\",{\"class\":\"collection\"})\n",
    "s2=soup.find_all(\"span\",{\"class\":\"current-price\"})\n",
    "s3=soup.find_all(\"span\",{\"class\":\"size\"})\n",
    "s4=soup.find_all(\"span\",{\"class\":\"small-description\"})\n",
    "list1=list(s1[i].text for i in range(len(s1)))\n",
    "list2=list(s2[i].text for i in range(len(s2)))\n",
    "list3=list(s3[i].text for i in range(len(s3)))\n",
    "list4=list(s4[i].text for i in range(len(s4)))\n",
    "d={\"collection\":list1,\"size\":list3,\"price\":list2,\"descr\":list4}\n",
    "import pandas as pd\n",
    "df=pd.DataFrame(d)\n",
    "df"
   ]
  },
  {
   "cell_type": "code",
   "execution_count": null,
   "metadata": {},
   "outputs": [],
   "source": []
  }
 ],
 "metadata": {
  "kernelspec": {
   "display_name": "Python 3",
   "language": "python",
   "name": "python3"
  },
  "language_info": {
   "codemirror_mode": {
    "name": "ipython",
    "version": 3
   },
   "file_extension": ".py",
   "mimetype": "text/x-python",
   "name": "python",
   "nbconvert_exporter": "python",
   "pygments_lexer": "ipython3",
   "version": "3.6.3"
  }
 },
 "nbformat": 4,
 "nbformat_minor": 2
}
