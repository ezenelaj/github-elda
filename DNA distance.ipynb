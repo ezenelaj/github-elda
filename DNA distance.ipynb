{
 "cells": [
  {
   "cell_type": "code",
   "execution_count": 19,
   "metadata": {},
   "outputs": [],
   "source": [
    "def input_sec():\n",
    "    sec1=[]\n",
    "    sec2=[]\n",
    "    dist=0\n",
    "    j=0\n",
    "    n=int(input(\"sequence length\"))\n",
    "    if 1<=n<=2000:\n",
    "        while j<n:\n",
    "            j=j+1\n",
    "            s=input(\"\")\n",
    "            sec1.append(int(s))\n",
    "            \n",
    "        j=0\n",
    "        print (\"input second sequence\")\n",
    "        while j<n:\n",
    "            j=j+1\n",
    "            s=input(\"\")\n",
    "            sec2.append(int(s))\n",
    "        for i in range(len(sec1)):\n",
    "            if sec1[i] in sec2:\n",
    "                \n",
    "                for j in range(len(sec2)):\n",
    "                    \n",
    "                    if sec2[j]==sec1[i] and j<=len(sec2):\n",
    "                        \n",
    "                        dist=dist+(abs(i-j))\n",
    "            else:\n",
    "                dist=dist+len(sec2)\n",
    "        return dist\n",
    "    else:\n",
    "        return"
   ]
  },
  {
   "cell_type": "code",
   "execution_count": 20,
   "metadata": {},
   "outputs": [
    {
     "name": "stdout",
     "output_type": "stream",
     "text": [
      "sequence length4\n",
      "6\n",
      "9\n",
      "7\n",
      "5\n",
      "input second sequence\n",
      "5\n",
      "8\n",
      "6\n",
      "7\n"
     ]
    },
    {
     "data": {
      "text/plain": [
       "10"
      ]
     },
     "execution_count": 20,
     "metadata": {},
     "output_type": "execute_result"
    }
   ],
   "source": [
    "input_sec()"
   ]
  },
  {
   "cell_type": "code",
   "execution_count": null,
   "metadata": {},
   "outputs": [],
   "source": []
  }
 ],
 "metadata": {
  "kernelspec": {
   "display_name": "Python 3",
   "language": "python",
   "name": "python3"
  },
  "language_info": {
   "codemirror_mode": {
    "name": "ipython",
    "version": 3
   },
   "file_extension": ".py",
   "mimetype": "text/x-python",
   "name": "python",
   "nbconvert_exporter": "python",
   "pygments_lexer": "ipython3",
   "version": "3.6.3"
  }
 },
 "nbformat": 4,
 "nbformat_minor": 2
}
