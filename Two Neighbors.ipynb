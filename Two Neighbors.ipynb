{
 "cells": [
  {
   "cell_type": "code",
   "execution_count": 167,
   "metadata": {},
   "outputs": [],
   "source": [
    "def neib_matrix():\n",
    "    import numpy as np\n",
    "    n=int(input(\"square matrix dimensions\"))\n",
    "    lista=list(map(int,input(\"elements\").split(\" \")))\n",
    "    x=list(np.reshape(lista,(n,n)).nonzero()[0])\n",
    "    y=list(np.reshape(lista, (n,n)).nonzero()[1])\n",
    "    loc=zip(x,y)\n",
    "    locu=list(loc)\n",
    "    tot=0\n",
    "    \n",
    "    for i in locu:\n",
    "        k=0\n",
    "        if (i[0]+1,i[1]) in locu:\n",
    "            k=k+1\n",
    "           \n",
    "        if (i[0],i[1]+1) in locu:\n",
    "            k=k+1\n",
    "            \n",
    "        if (i[0]-1,i[1]) in locu:\n",
    "            k=k+1\n",
    "           \n",
    "        if (i[0],i[1]-1) in locu:\n",
    "            k=k+1\n",
    "            \n",
    "        if k>=2:\n",
    "            tot=tot+1\n",
    "    return tot\n",
    "        "
   ]
  },
  {
   "cell_type": "code",
   "execution_count": 171,
   "metadata": {},
   "outputs": [
    {
     "name": "stdout",
     "output_type": "stream",
     "text": [
      "square matrix dimensions5\n",
      "elements0 1 0 0 1 1 1 0 0 1 0 0 1 0 1 1 0 0 1 0 1 1 1 0 1\n"
     ]
    },
    {
     "data": {
      "text/plain": [
       "4"
      ]
     },
     "execution_count": 171,
     "metadata": {},
     "output_type": "execute_result"
    }
   ],
   "source": [
    "neib_matrix()"
   ]
  },
  {
   "cell_type": "code",
   "execution_count": null,
   "metadata": {},
   "outputs": [],
   "source": []
  }
 ],
 "metadata": {
  "kernelspec": {
   "display_name": "Python 3",
   "language": "python",
   "name": "python3"
  },
  "language_info": {
   "codemirror_mode": {
    "name": "ipython",
    "version": 3
   },
   "file_extension": ".py",
   "mimetype": "text/x-python",
   "name": "python",
   "nbconvert_exporter": "python",
   "pygments_lexer": "ipython3",
   "version": "3.6.3"
  }
 },
 "nbformat": 4,
 "nbformat_minor": 2
}
