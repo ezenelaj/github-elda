{
 "cells": [
  {
   "cell_type": "code",
   "execution_count": 8,
   "metadata": {},
   "outputs": [],
   "source": [
    "def swap(array,k,l):\n",
    "        m=array[k]\n",
    "        n=array[l]\n",
    "        array[k]=n\n",
    "        array[l]=m\n",
    "         \n",
    "def heapify(array,k):\n",
    "    left=2*k+1\n",
    "    right=2*k+2\n",
    "    limit=len(array)-1\n",
    "    k_max=int(limit/2)-1\n",
    "    if right<=limit:\n",
    "        \n",
    "        if array[k]<array[left]:\n",
    "                             \n",
    "                if array[right]>array[left]:\n",
    "                    swap(array,k,right)\n",
    "                    k_next=right\n",
    "                  \n",
    "                    if k_next<k_max:\n",
    "                           heapify(array,k_next)\n",
    "                  \n",
    "                else:  \n",
    "                    \n",
    "                    swap(array,k,left)\n",
    "                    k_next=left\n",
    "                    if k_next<k_max:\n",
    "                           heapify(array,k_next)\n",
    "                    \n",
    "        else: \n",
    "            if array[k]<array[right]:\n",
    "               \n",
    "                swap(array,k,right)\n",
    "                k_next=right\n",
    "                if k_next<k_max:\n",
    "                           heapify(array,k_next)\n",
    "                                      \n",
    "    else:\n",
    "        if array[k]<array[left]:\n",
    "          \n",
    "            swap(array,k,left)\n",
    "            k_next=left\n",
    "            if k_next<k_max:\n",
    "                           heapify(array,k_next)\n",
    "            \n",
    "           \n",
    "          "
   ]
  },
  {
   "cell_type": "code",
   "execution_count": 5,
   "metadata": {},
   "outputs": [],
   "source": [
    "k=int((len(lista)/2)-1)\n",
    "while k>=0:\n",
    "    heapify(lista,k)\n",
    "    k=k-1"
   ]
  },
  {
   "cell_type": "code",
   "execution_count": 6,
   "metadata": {},
   "outputs": [],
   "source": [
    "lista=[1,16,5,30,27,17,20,2,57,3,90,96]"
   ]
  },
  {
   "cell_type": "code",
   "execution_count": 9,
   "metadata": {},
   "outputs": [],
   "source": [
    "heapify(lista,0)"
   ]
  },
  {
   "cell_type": "code",
   "execution_count": 10,
   "metadata": {},
   "outputs": [
    {
     "data": {
      "text/plain": [
       "[16, 30, 5, 57, 27, 17, 20, 2, 1, 3, 90, 96]"
      ]
     },
     "execution_count": 10,
     "metadata": {},
     "output_type": "execute_result"
    }
   ],
   "source": [
    "lista"
   ]
  },
  {
   "cell_type": "code",
   "execution_count": null,
   "metadata": {},
   "outputs": [],
   "source": []
  }
 ],
 "metadata": {
  "kernelspec": {
   "display_name": "Python 3",
   "language": "python",
   "name": "python3"
  },
  "language_info": {
   "codemirror_mode": {
    "name": "ipython",
    "version": 3
   },
   "file_extension": ".py",
   "mimetype": "text/x-python",
   "name": "python",
   "nbconvert_exporter": "python",
   "pygments_lexer": "ipython3",
   "version": "3.6.3"
  }
 },
 "nbformat": 4,
 "nbformat_minor": 2
}
