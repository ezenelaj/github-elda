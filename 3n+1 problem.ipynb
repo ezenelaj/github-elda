{
 "cells": [
  {
   "cell_type": "code",
   "execution_count": 7,
   "metadata": {},
   "outputs": [],
   "source": [
    "def cycle_len(num1):\n",
    "    cycle=0\n",
    "    while num1>1:\n",
    "        if num1%2==0:\n",
    "            num1=num1/2\n",
    "            cycle=cycle+1\n",
    "        else:\n",
    "            num1=3*num1+1\n",
    "            cycle=cycle+1\n",
    "    return cycle+1"
   ]
  },
  {
   "cell_type": "code",
   "execution_count": 29,
   "metadata": {},
   "outputs": [],
   "source": [
    "def cycle_number(a,b):\n",
    "    lista=[]\n",
    "    for i in range(a,b+1):\n",
    "         lista.append(cycle_len(i))\n",
    "    return max(lista)"
   ]
  },
  {
   "cell_type": "code",
   "execution_count": 31,
   "metadata": {},
   "outputs": [
    {
     "data": {
      "text/plain": [
       "125"
      ]
     },
     "execution_count": 31,
     "metadata": {},
     "output_type": "execute_result"
    }
   ],
   "source": [
    "cycle_number(100,200)"
   ]
  },
  {
   "cell_type": "code",
   "execution_count": null,
   "metadata": {},
   "outputs": [],
   "source": []
  }
 ],
 "metadata": {
  "kernelspec": {
   "display_name": "Python 3",
   "language": "python",
   "name": "python3"
  },
  "language_info": {
   "codemirror_mode": {
    "name": "ipython",
    "version": 3
   },
   "file_extension": ".py",
   "mimetype": "text/x-python",
   "name": "python",
   "nbconvert_exporter": "python",
   "pygments_lexer": "ipython3",
   "version": "3.6.3"
  }
 },
 "nbformat": 4,
 "nbformat_minor": 2
}
