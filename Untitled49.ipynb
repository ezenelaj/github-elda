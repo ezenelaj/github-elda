{
 "cells": [
  {
   "cell_type": "code",
   "execution_count": 10,
   "metadata": {},
   "outputs": [],
   "source": [
    "def get_inp():\n",
    "    import numpy as np\n",
    "    dimen=list(map(int,input(\"matrix dimesions\").split(\" \")))\n",
    "    data=list(map(int,(input(\"numbers\").split())))\n",
    "    poz=list(map(int,input(\"provide coordinates of 2 elements\").split()))\n",
    "    if len(data)==dimen[0]*dimen[1]:\n",
    "        x=np.reshape(data, (dimen[0],dimen[1]))\n",
    "        #return sum(x[poz[0],poz[1]],x[poz[2],poz[3]])\n",
    "        return x[poz[0],poz[1]]+x[poz[2],poz[3]]\n",
    "    else:\n",
    "        print (\"please provide\",dimen[0]*dimen[1],\"elements\")"
   ]
  },
  {
   "cell_type": "code",
   "execution_count": 11,
   "metadata": {},
   "outputs": [
    {
     "name": "stdout",
     "output_type": "stream",
     "text": [
      "matrix dimesions2 3\n",
      "numbers4 6 8 9 7 2\n",
      "provide coordinates of 2 elements0 1 1 0\n"
     ]
    },
    {
     "data": {
      "text/plain": [
       "15"
      ]
     },
     "execution_count": 11,
     "metadata": {},
     "output_type": "execute_result"
    }
   ],
   "source": [
    "get_inp()"
   ]
  },
  {
   "cell_type": "code",
   "execution_count": null,
   "metadata": {},
   "outputs": [],
   "source": []
  }
 ],
 "metadata": {
  "kernelspec": {
   "display_name": "Python 3",
   "language": "python",
   "name": "python3"
  },
  "language_info": {
   "codemirror_mode": {
    "name": "ipython",
    "version": 3
   },
   "file_extension": ".py",
   "mimetype": "text/x-python",
   "name": "python",
   "nbconvert_exporter": "python",
   "pygments_lexer": "ipython3",
   "version": "3.6.3"
  }
 },
 "nbformat": 4,
 "nbformat_minor": 2
}
