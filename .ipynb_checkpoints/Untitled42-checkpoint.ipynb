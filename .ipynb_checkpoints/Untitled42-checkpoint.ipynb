{
 "cells": [
  {
   "cell_type": "code",
   "execution_count": 3,
   "metadata": {},
   "outputs": [],
   "source": [
    "def left_tr(leaf,array,root,parent):\n",
    "            j=0\n",
    "            l='Null'\n",
    "            if parent!=root:\n",
    "                \n",
    "                if leaf>parent:\n",
    "                    while j<len(array):\n",
    "                        if array[j]<leaf and array[j] <root and array[j]>parent:\n",
    "                            l=array[j]\n",
    "                            del array[j]\n",
    "                            break\n",
    "                        j=j+1\n",
    "                if leaf<parent:\n",
    "                    while j<len(array):\n",
    "                        if array[j]<leaf and array[j] <root and array[j]<parent:\n",
    "                            l=array[j]\n",
    "                            del array[j]\n",
    "                            break\n",
    "                        j=j+1\n",
    "                   \n",
    "                j=0\n",
    "                r='Null'   \n",
    "                \n",
    "                if leaf >parent:\n",
    "                    while j<len(array):\n",
    "                        if array[j]>leaf and array[j] <root and array[j]>parent:\n",
    "                            r=array[j]\n",
    "                            del array[j]\n",
    "                            break\n",
    "                        j=j+1\n",
    "                if leaf <parent:\n",
    "                    while j<len(array):\n",
    "                        if array[j]>leaf and array[j] <root and array[j]<parent:\n",
    "                            r=array[j]\n",
    "                            del array[j]\n",
    "                            break\n",
    "                        j=j+1\n",
    "                        \n",
    "            else:\n",
    "                j=0\n",
    "                l='Null'\n",
    "                while j<len(array):\n",
    "                    if array[j] <leaf and array[j] <root:\n",
    "                        l=array[j]\n",
    "                        del array[j]\n",
    "                        break\n",
    "                    j=j+1\n",
    "                j=0\n",
    "                r='Null'\n",
    "                while j<len(array):\n",
    "                    if array[j] >leaf and array[j] <root:\n",
    "                        r=array[j]\n",
    "                        del array[j]\n",
    "                        break\n",
    "                    j=j+1\n",
    "            parent=leaf\n",
    "            if l!='Null':\n",
    "                   left_tr(l,array,root,parent)\n",
    "            if r!='Null':\n",
    "                   left_tr(r,array,root,parent)\n",
    "                   \n",
    "            return [l,r,leaf]  \n",
    "        \n",
    "\n",
    "\n",
    "def right_tr(leaf,array,root,parent):\n",
    "            j=0\n",
    "            l='Null'\n",
    "            if parent!=root:\n",
    "                \n",
    "                if leaf>parent:\n",
    "                    while j<len(array):\n",
    "                        if array[j]<leaf and array[j] >root and array[j]>parent:\n",
    "                            l=array[j]\n",
    "                            del array[j]\n",
    "                            break\n",
    "                        j=j+1\n",
    "                if leaf<parent:\n",
    "                    while j<len(array):\n",
    "                        if array[j]<leaf and array[j] >root and array[j]<parent:\n",
    "                            l=array[j]\n",
    "                            del array[j]\n",
    "                            break\n",
    "                        j=j+1\n",
    "                        \n",
    "                j=0\n",
    "                r='Null'   \n",
    "                if leaf >parent:\n",
    "                    while j<len(array):\n",
    "                        if array[j]>leaf and array[j] >root and array[j]>parent:\n",
    "                            r=array[j]\n",
    "                            del array[j]\n",
    "                            break\n",
    "                        j=j+1\n",
    "                if leaf <parent:\n",
    "                    while j<len(array):\n",
    "                        if array[j]>leaf and array[j] >root and array[j]<parent:\n",
    "                            r=array[j]\n",
    "                            del array[j]\n",
    "                            break\n",
    "                        j=j+1\n",
    "            else:\n",
    "                j=0\n",
    "                l='Null'\n",
    "                while j<len(array):\n",
    "                    if array[j] <leaf and array[j] >root:\n",
    "                        l=array[j]\n",
    "                        del array[j]\n",
    "                        break\n",
    "                    j=j+1\n",
    "                j=0\n",
    "                r='Null'\n",
    "                while j<len(array):\n",
    "                    if array[j] >leaf and array[j] >root:\n",
    "                        r=array[j]\n",
    "                        del array[j]\n",
    "                        break\n",
    "                    j=j+1\n",
    "            print (l,r)\n",
    "        \n",
    "root=lista3[0]\n",
    "\n",
    "def root_ini1(array):\n",
    "    tree_bin=[]\n",
    "    tree_bin.append(root)\n",
    "    for i in range(1,len(array)):\n",
    "        if array[i] < root:\n",
    "            tree_bin.append(array[i])\n",
    "            del array[i]\n",
    "            break\n",
    "    for i in range(1,len(array)):\n",
    "        if array[i]>root:\n",
    "            tree_bin.append(array[i])\n",
    "            del array[i]\n",
    "            break \n",
    "    return tree_bin"
   ]
  },
  {
   "cell_type": "code",
   "execution_count": 4,
   "metadata": {},
   "outputs": [],
   "source": [
    "lista3=[7, 8, 2, 4, 1, 3, 10, 5, 9]"
   ]
  },
  {
   "cell_type": "code",
   "execution_count": 5,
   "metadata": {},
   "outputs": [
    {
     "data": {
      "text/plain": [
       "[7, 2, 8]"
      ]
     },
     "execution_count": 5,
     "metadata": {},
     "output_type": "execute_result"
    }
   ],
   "source": [
    "root_ini1(lista3)"
   ]
  },
  {
   "cell_type": "code",
   "execution_count": 6,
   "metadata": {},
   "outputs": [
    {
     "data": {
      "text/plain": [
       "['Null', 'Null', 1]"
      ]
     },
     "execution_count": 6,
     "metadata": {},
     "output_type": "execute_result"
    }
   ],
   "source": [
    "left_tr(1,lista3,7,2)"
   ]
  },
  {
   "cell_type": "code",
   "execution_count": null,
   "metadata": {},
   "outputs": [],
   "source": []
  }
 ],
 "metadata": {
  "kernelspec": {
   "display_name": "Python 3",
   "language": "python",
   "name": "python3"
  },
  "language_info": {
   "codemirror_mode": {
    "name": "ipython",
    "version": 3
   },
   "file_extension": ".py",
   "mimetype": "text/x-python",
   "name": "python",
   "nbconvert_exporter": "python",
   "pygments_lexer": "ipython3",
   "version": "3.6.3"
  }
 },
 "nbformat": 4,
 "nbformat_minor": 2
}
