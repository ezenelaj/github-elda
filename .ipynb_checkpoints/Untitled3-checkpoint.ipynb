{
 "cells": [
  {
   "cell_type": "code",
   "execution_count": 8,
   "metadata": {},
   "outputs": [
    {
     "name": "stdout",
     "output_type": "stream",
     "text": [
      "the new test\n"
     ]
    }
   ],
   "source": [
    "import numpy as np\n",
    "lista=[1,5,4,7,8,9]\n",
    "np.array(lista).reshape(3,2)\n",
    "print (\"the new test\")"
   ]
  },
  {
   "cell_type": "code",
   "execution_count": null,
   "metadata": {},
   "outputs": [],
   "source": [
    "def laplas():\n",
    "    \n",
    "    def neigh_matrix(x,y,matri,xd,yd):\n",
    "        \n",
    "        if y-1<0:\n",
    "            left_ne=matri[x,y]\n",
    "        else:\n",
    "            left_ne=matri[x,y-1]\n",
    "        \n",
    "        \n",
    "        if y+1>yd-1:\n",
    "            right_ne=matri[x,y]\n",
    "        else:\n",
    "            right_ne=matri[x,y+1]\n",
    "       \n",
    "    \n",
    "        if x-1<0:\n",
    "            up_ne=matri[x,y]\n",
    "        else:\n",
    "            up_ne=matri[x-1,y]\n",
    "        \n",
    "        \n",
    "        if x+1>xd:\n",
    "            down_ne=matri[x,y]\n",
    "        else:\n",
    "            down_ne=matri[x+1,y]\n",
    "                          \n",
    "        new_lapl=4*(matri[x,y])-(left_ne+right_ne+down_ne+up_ne)\n",
    "        return new_lapl\n",
    "                      \n",
    "    import numpy as np\n",
    "    dimen=list(map(int,input(\"provide matrix dimensions\").split(\" \")))\n",
    "    mat_inp=list(map(int,input(\"matrix elements\").split(\" \")))\n",
    "    matrix=np.array(mat_inp).reshape(dimen[0],dimen[1])\n",
    "    lapl=list(map(int,input(\"laplas coordinates\").split(\" \")))\n",
    "    nr_cells=int(input(\"number of cells to filter\"))\n",
    "    nr_cell=[]\n",
    "    k=0\n",
    "    while k<nr_cells:\n",
    "        nr_cell.append(list(input(\"\")))\n",
    "        k=k+1\n",
    "    return nr_cell\n",
    "        \n",
    "    #return neigh_matrix(lapl[0],lapl[1],matrix,dimen[0],dimen[1])\n",
    "\n",
    "    #if lapl[1]-1<0:\n",
    "     #   left_ne=matrix[lapl[0],lapl[1]]\n",
    "    #else:\n",
    "     #   left_ne=matrix[lapl[0],lapl[1]-1]\n",
    "        \n",
    "        \n",
    "    #if lapl[1]+1>dimen[1]-1:\n",
    "        #right_ne=matrix[lapl[0],lapl[1]]\n",
    "    #else:\n",
    "        #right_ne=matrix[lapl[0],lapl[1]+1]\n",
    "       \n",
    "    \n",
    "    #if lapl[0]-1<0:\n",
    "     #   up_ne=matrix[lapl[0],lapl[1]]\n",
    "    #else:\n",
    "     #   up_ne=matrix[lapl[0]-1,lapl[1]]\n",
    "        \n",
    "        \n",
    "    #if lapl[0]+1>dimen[0]:\n",
    "      #  down_ne=matrix[lapl[0],lapl[1]]\n",
    "    #else:\n",
    "     #   down_ne=matrix[lapl[0]+1,lapl[1]]\n",
    "        \n",
    "    #new_lapl=4*(matrix[lapl[0],lapl[1]])-(left_ne+right_ne+down_ne+up_ne)\n",
    "    \n",
    "    #print (matrix[lapl[0],lapl[1]],left_ne,right_ne,up_ne,down_ne)\n",
    "    #return new_lapl"
   ]
  },
  {
   "cell_type": "code",
   "execution_count": null,
   "metadata": {},
   "outputs": [],
   "source": []
  }
 ],
 "metadata": {
  "kernelspec": {
   "display_name": "Python 3",
   "language": "python",
   "name": "python3"
  },
  "language_info": {
   "codemirror_mode": {
    "name": "ipython",
    "version": 3
   },
   "file_extension": ".py",
   "mimetype": "text/x-python",
   "name": "python",
   "nbconvert_exporter": "python",
   "pygments_lexer": "ipython3",
   "version": "3.6.3"
  }
 },
 "nbformat": 4,
 "nbformat_minor": 2
}
