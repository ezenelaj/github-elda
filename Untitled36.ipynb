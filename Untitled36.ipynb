{
 "cells": [
  {
   "cell_type": "code",
   "execution_count": 56,
   "metadata": {},
   "outputs": [],
   "source": [
    "def pascal_tria(i,j):\n",
    "    if i >0 and j>0 and i!=j:\n",
    "        return pascal_tria(i-1,j-1)+pascal_tria(i-1,j)\n",
    "       \n",
    "    else:\n",
    "        return 1"
   ]
  },
  {
   "cell_type": "code",
   "execution_count": 110,
   "metadata": {},
   "outputs": [],
   "source": [
    "def tribonaci(a,b,c,n):\n",
    "    if n>3:\n",
    "        return tribonaci(a,b,c,n-1)+tribonaci(a,b,c,n-2)+tribonaci(a,b,c,n-3)\n",
    "    if n==1:\n",
    "        return a\n",
    "    if n==2:\n",
    "        return b\n",
    "    if n==3:\n",
    "        return c"
   ]
  },
  {
   "cell_type": "code",
   "execution_count": 111,
   "metadata": {},
   "outputs": [
    {
     "data": {
      "text/plain": [
       "9"
      ]
     },
     "execution_count": 111,
     "metadata": {},
     "output_type": "execute_result"
    }
   ],
   "source": [
    "tribonaci(1,1,1,6)"
   ]
  },
  {
   "cell_type": "code",
   "execution_count": 147,
   "metadata": {},
   "outputs": [],
   "source": [
    "def seq(j,n):\n",
    "    if n>1:\n",
    "        if n%2==0:\n",
    "            return seq(j,n/2)\n",
    "        else:\n",
    "            k=int(n/2)\n",
    "            return seq(j,k)+seq(j,k+1)\n",
    "    if n==1:\n",
    "        return j"
   ]
  },
  {
   "cell_type": "code",
   "execution_count": 151,
   "metadata": {},
   "outputs": [],
   "source": []
  },
  {
   "cell_type": "code",
   "execution_count": null,
   "metadata": {},
   "outputs": [],
   "source": []
  }
 ],
 "metadata": {
  "kernelspec": {
   "display_name": "Python 3",
   "language": "python",
   "name": "python3"
  },
  "language_info": {
   "codemirror_mode": {
    "name": "ipython",
    "version": 3
   },
   "file_extension": ".py",
   "mimetype": "text/x-python",
   "name": "python",
   "nbconvert_exporter": "python",
   "pygments_lexer": "ipython3",
   "version": "3.6.3"
  }
 },
 "nbformat": 4,
 "nbformat_minor": 2
}
