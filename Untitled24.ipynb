{
 "cells": [
  {
   "cell_type": "code",
   "execution_count": 1,
   "metadata": {},
   "outputs": [],
   "source": [
    "lista=[2, 3, 5, 7, 11, 13, 17, 19, 23, 29, 31, 36, 41, 43, 47, 53, 59, 61, 67, 71, 73, 79, 83, 89, 97,100]"
   ]
  },
  {
   "cell_type": "code",
   "execution_count": 263,
   "metadata": {},
   "outputs": [],
   "source": [
    "def black_red(array,num):\n",
    "    min=0\n",
    "    max=len(array)-1\n",
    "    mid=int((min+max)/2)\n",
    "\n",
    "    while num!=array[mid]:\n",
    "        if num>array[mid]:\n",
    "            min=mid+1\n",
    "            if mid>0 and mid<=len(array)-1 and mid!=max:\n",
    "                mid=int((min+max)/2)\n",
    "            else:\n",
    "                print ('number not found')\n",
    "                return\n",
    "        elif num<array[mid]:\n",
    "            max=mid-1\n",
    "            if max>0 and max<=len(array)-1 and mid!=max:\n",
    "                mid=int((min+max)/2)\n",
    "            else:\n",
    "                print ('number not found')\n",
    "                return \n",
    "    return mid"
   ]
  },
  {
   "cell_type": "code",
   "execution_count": 264,
   "metadata": {},
   "outputs": [
    {
     "data": {
      "text/plain": [
       "11"
      ]
     },
     "execution_count": 264,
     "metadata": {},
     "output_type": "execute_result"
    }
   ],
   "source": [
    "black_red(lista,36)"
   ]
  },
  {
   "cell_type": "code",
   "execution_count": null,
   "metadata": {},
   "outputs": [],
   "source": []
  }
 ],
 "metadata": {
  "kernelspec": {
   "display_name": "Python 3",
   "language": "python",
   "name": "python3"
  },
  "language_info": {
   "codemirror_mode": {
    "name": "ipython",
    "version": 3
   },
   "file_extension": ".py",
   "mimetype": "text/x-python",
   "name": "python",
   "nbconvert_exporter": "python",
   "pygments_lexer": "ipython3",
   "version": "3.6.3"
  }
 },
 "nbformat": 4,
 "nbformat_minor": 2
}
