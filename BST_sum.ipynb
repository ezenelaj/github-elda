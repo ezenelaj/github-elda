{
 "cells": [
  {
   "cell_type": "code",
   "execution_count": 3,
   "metadata": {},
   "outputs": [],
   "source": [
    "def left_tr(leaf,array,root,parent,left_br,kl,dep_list):\n",
    "            j=0\n",
    "            l='Null'\n",
    "            if parent!=root:\n",
    "                \n",
    "                if leaf>parent:\n",
    "                    while j<len(array):\n",
    "                        if array[j]<leaf and array[j] <root and array[j]>parent:\n",
    "                            l=array[j]\n",
    "                            del array[j]\n",
    "                            break\n",
    "                        j=j+1\n",
    "                if leaf<parent:\n",
    "                    while j<len(array):\n",
    "                        if array[j]<leaf and array[j] <root and array[j]<parent:\n",
    "                            l=array[j]\n",
    "                            del array[j]\n",
    "                            break\n",
    "                        j=j+1\n",
    "                   \n",
    "                j=0\n",
    "                r='Null'   \n",
    "                \n",
    "                if leaf >parent:\n",
    "                    while j<len(array):\n",
    "                        if array[j]>leaf and array[j] <root and array[j]>parent:\n",
    "                            r=array[j]\n",
    "                            del array[j]\n",
    "                            break\n",
    "                        j=j+1\n",
    "                if leaf <parent:\n",
    "                    while j<len(array):\n",
    "                        if array[j]>leaf and array[j] <root and array[j]<parent:\n",
    "                            r=array[j]\n",
    "                            del array[j]\n",
    "                            break\n",
    "                        j=j+1\n",
    "                kl=kl+1\n",
    "                dep_list.append(kl)\n",
    "                #print ('kl',kl)\n",
    "            else:\n",
    "                j=0\n",
    "                l='Null'\n",
    "                while j<len(array):\n",
    "                    if array[j] <leaf and array[j] <root:\n",
    "                        l=array[j]\n",
    "                        del array[j]\n",
    "                        break\n",
    "                    j=j+1\n",
    "                j=0\n",
    "                r='Null'\n",
    "                while j<len(array):\n",
    "                    if array[j] >leaf and array[j] <root:\n",
    "                        r=array[j]\n",
    "                        del array[j]\n",
    "                        break\n",
    "                    j=j+1\n",
    "            #print (leaf,l,r)\n",
    "            left_br.append(l)\n",
    "            #print ('k_r',k_r)\n",
    "            left_br.append(r)\n",
    "            parent=leaf\n",
    "            if l!='Null':\n",
    "                    left_tr(l,array,root,parent,left_br,kl,dep_list)\n",
    "    \n",
    "            if r!='Null':\n",
    "                    left_tr(r,array,root,parent,left_br,kl,dep_list) \n",
    "               \n",
    "        \n",
    "def right_tr(leaf,array,root,parent,right_br,kr,dep_list):\n",
    "            j=0\n",
    "            l='Null'\n",
    "            if parent!=root:\n",
    "                \n",
    "                if leaf>parent:\n",
    "                    while j<len(array):\n",
    "                        if array[j]<leaf and array[j] >root and array[j]>parent:\n",
    "                            l=array[j]\n",
    "                            del array[j]\n",
    "                            break\n",
    "                        j=j+1\n",
    "                if leaf<parent:\n",
    "                    while j<len(array):\n",
    "                        if array[j]<leaf and array[j] >root and array[j]<parent:\n",
    "                            l=array[j]\n",
    "                            del array[j]\n",
    "                            break\n",
    "                        j=j+1\n",
    "                        \n",
    "                j=0\n",
    "                r='Null'   \n",
    "                if leaf >parent:\n",
    "                    while j<len(array):\n",
    "                        if array[j]>leaf and array[j] >root and array[j]>parent:\n",
    "                            r=array[j]\n",
    "                            del array[j]\n",
    "                            break\n",
    "                        j=j+1\n",
    "                if leaf <parent:\n",
    "                    while j<len(array):\n",
    "                        if array[j]>leaf and array[j] >root and array[j]<parent:\n",
    "                            r=array[j]\n",
    "                            del array[j]\n",
    "                            break\n",
    "                        j=j+1\n",
    "                kr=kr+1 \n",
    "                dep_list.append(kr)\n",
    "                #print ('kr',kr)\n",
    "            else:\n",
    "                j=0\n",
    "                l='Null'\n",
    "                while j<len(array):\n",
    "                    if array[j] <leaf and array[j] >root:\n",
    "                        l=array[j]\n",
    "                        del array[j]\n",
    "                        break\n",
    "                    j=j+1\n",
    "                j=0\n",
    "                r='Null'\n",
    "                while j<len(array):\n",
    "                    if array[j] >leaf and array[j] >root:\n",
    "                        r=array[j]\n",
    "                        del array[j]\n",
    "                        break\n",
    "                    j=j+1\n",
    "            #print (leaf,l,r)\n",
    "            right_br.append(l)\n",
    "            right_br.append(r)\n",
    "            parent=leaf\n",
    "            if l!='Null':\n",
    "                   right_tr(l,array,root,parent,right_br,kr,dep_list)\n",
    "            if r!='Null':\n",
    "                   right_tr(r,array,root,parent,right_br,kr,dep_list)\n",
    "\n",
    "def rem_dupl_linear(array):\n",
    "    list_del=[]\n",
    "    for i in range(1,len(array)):\n",
    "        if array[i] in array[0:i]:\n",
    "            list_del.append(i)\n",
    "    j=0\n",
    "    for i in list_del:\n",
    "        del array[i-j]\n",
    "        j=j+1\n",
    "        \n",
    "def root_sum(array):\n",
    "    rem_dupl_linear(array)\n",
    "    num=len(array)\n",
    "    left_br=[]\n",
    "    right_br=[]\n",
    "    dep_list=[]\n",
    "    root=array[0]\n",
    "    tree_bin=[]\n",
    "    kl=1\n",
    "    kr=1\n",
    "    tree_bin.append(root)\n",
    "    for i in range(1,len(array)):\n",
    "        if array[i] < root:\n",
    "            tree_bin.append(array[i])\n",
    "            del array[i]\n",
    "            break\n",
    "    for i in range(1,len(array)):\n",
    "        if array[i]>root:\n",
    "            tree_bin.append(array[i])\n",
    "            del array[i]\n",
    "            break \n",
    "    for i in tree_bin:\n",
    "        if i>root:\n",
    "            right_tr(i,array,root,root,right_br,kr,dep_list)\n",
    "        if i<root:\n",
    "            left_tr(i,array,root,root,left_br,kl,dep_list)\n",
    "    while left_br.count('Null')>0:\n",
    "         left_br.remove('Null')\n",
    "    while right_br.count('Null')>0:\n",
    "         right_br.remove('Null')\n",
    "    return sum(left_br[len(left_br)-2:len(left_br)]+right_br[len(right_br)-2:len(right_br)])"
   ]
  },
  {
   "cell_type": "code",
   "execution_count": 4,
   "metadata": {},
   "outputs": [],
   "source": [
    "lista=[ 4, 2, 1, 3, 2, 4, 6, 5,9]"
   ]
  },
  {
   "cell_type": "code",
   "execution_count": 5,
   "metadata": {},
   "outputs": [
    {
     "data": {
      "text/plain": [
       "18"
      ]
     },
     "execution_count": 5,
     "metadata": {},
     "output_type": "execute_result"
    }
   ],
   "source": [
    "root_sum(lista)"
   ]
  },
  {
   "cell_type": "code",
   "execution_count": 20,
   "metadata": {},
   "outputs": [],
   "source": [
    "lista1=[1, 4, 'Null', 'Null', 3, 5, 'Null', 'Null', 'Null', 'Null']"
   ]
  },
  {
   "cell_type": "code",
   "execution_count": 22,
   "metadata": {},
   "outputs": [],
   "source": [
    "while lista1.count('Null')>0:\n",
    "    lista1.remove('Null')"
   ]
  },
  {
   "cell_type": "code",
   "execution_count": 23,
   "metadata": {},
   "outputs": [
    {
     "data": {
      "text/plain": [
       "[1, 4, 3, 5]"
      ]
     },
     "execution_count": 23,
     "metadata": {},
     "output_type": "execute_result"
    }
   ],
   "source": [
    "lista1"
   ]
  },
  {
   "cell_type": "code",
   "execution_count": 27,
   "metadata": {},
   "outputs": [
    {
     "data": {
      "text/plain": [
       "8"
      ]
     },
     "execution_count": 27,
     "metadata": {},
     "output_type": "execute_result"
    }
   ],
   "source": [
    "sum(lista1[2:4])"
   ]
  },
  {
   "cell_type": "code",
   "execution_count": null,
   "metadata": {},
   "outputs": [],
   "source": []
  }
 ],
 "metadata": {
  "kernelspec": {
   "display_name": "Python 3",
   "language": "python",
   "name": "python3"
  },
  "language_info": {
   "codemirror_mode": {
    "name": "ipython",
    "version": 3
   },
   "file_extension": ".py",
   "mimetype": "text/x-python",
   "name": "python",
   "nbconvert_exporter": "python",
   "pygments_lexer": "ipython3",
   "version": "3.6.3"
  }
 },
 "nbformat": 4,
 "nbformat_minor": 2
}
