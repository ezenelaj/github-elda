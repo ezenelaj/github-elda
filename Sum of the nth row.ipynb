{
 "cells": [
  {
   "cell_type": "code",
   "execution_count": 230,
   "metadata": {},
   "outputs": [],
   "source": [
    "def sum_row():\n",
    "    import numpy as np\n",
    "    import math\n",
    "    lista=[]\n",
    "    n=input(\"row to sum\")\n",
    "    r=input(\"matrix dimensions:row\")\n",
    "    c=input(\"matrix dimensions:column\")\n",
    "    j=0\n",
    "    while j<int(r)*int(c):\n",
    "        lista.append(int(input()))\n",
    "        j=j+1\n",
    "    a=np.asarray(lista)\n",
    "    a.shape=(int(r),int(c))\n",
    "    a.sort(axis=0)\n",
    "    print (a)\n",
    "    return sum(a[int(n)-1:int(n),:][0])"
   ]
  },
  {
   "cell_type": "code",
   "execution_count": null,
   "metadata": {},
   "outputs": [],
   "source": []
  }
 ],
 "metadata": {
  "kernelspec": {
   "display_name": "Python 3",
   "language": "python",
   "name": "python3"
  },
  "language_info": {
   "codemirror_mode": {
    "name": "ipython",
    "version": 3
   },
   "file_extension": ".py",
   "mimetype": "text/x-python",
   "name": "python",
   "nbconvert_exporter": "python",
   "pygments_lexer": "ipython3",
   "version": "3.6.3"
  }
 },
 "nbformat": 4,
 "nbformat_minor": 2
}
