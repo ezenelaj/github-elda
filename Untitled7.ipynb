{
 "cells": [
  {
   "cell_type": "code",
   "execution_count": 165,
   "metadata": {},
   "outputs": [],
   "source": [
    "import requests"
   ]
  },
  {
   "cell_type": "code",
   "execution_count": 166,
   "metadata": {},
   "outputs": [],
   "source": [
    "from bs4 import BeautifulSoup"
   ]
  },
  {
   "cell_type": "code",
   "execution_count": 167,
   "metadata": {},
   "outputs": [],
   "source": [
    "r=requests.get(\"http://www.dorothyperkins.com/en/dpuk/category/dresses-5699972/womens-dresses-5686813/N-ikdZc1y?No=0&Nrpp=20&siteId=%2F12552\")"
   ]
  },
  {
   "cell_type": "code",
   "execution_count": 168,
   "metadata": {},
   "outputs": [],
   "source": [
    "c=r.content"
   ]
  },
  {
   "cell_type": "code",
   "execution_count": 169,
   "metadata": {},
   "outputs": [],
   "source": [
    "soup=BeautifulSoup(c,\"html.parser\")"
   ]
  },
  {
   "cell_type": "code",
   "execution_count": 170,
   "metadata": {},
   "outputs": [],
   "source": [
    "s1=soup.find_all(\"div\",{\"class\":\"product\"})"
   ]
  },
  {
   "cell_type": "code",
   "execution_count": 171,
   "metadata": {},
   "outputs": [],
   "source": [
    "list1=list(s1[i].find(\"a\",{\"class\":\"product_name\"}).text.replace(\"\\n     \",\"\").replace(\"\\n\\t\",\"\") for i in range(len(s1)))"
   ]
  },
  {
   "cell_type": "code",
   "execution_count": 172,
   "metadata": {},
   "outputs": [],
   "source": [
    "list2=list(s1[i].find(\"span\",{\"class\":\"now\"}).text.replace(\"£\",\"\") for i in range(len(s1)))"
   ]
  },
  {
   "cell_type": "code",
   "execution_count": 173,
   "metadata": {},
   "outputs": [],
   "source": [
    "d={\"dress\":list1,\"price\":list2}"
   ]
  },
  {
   "cell_type": "code",
   "execution_count": 174,
   "metadata": {},
   "outputs": [],
   "source": [
    "import pandas as pd"
   ]
  },
  {
   "cell_type": "code",
   "execution_count": 175,
   "metadata": {},
   "outputs": [],
   "source": [
    "df=pd.DataFrame(d)"
   ]
  },
  {
   "cell_type": "code",
   "execution_count": 176,
   "metadata": {},
   "outputs": [],
   "source": [
    "df['price']=pd.to_numeric(df['price'])"
   ]
  },
  {
   "cell_type": "code",
   "execution_count": 177,
   "metadata": {},
   "outputs": [],
   "source": [
    "df['price']=df['price']*140.72"
   ]
  },
  {
   "cell_type": "code",
   "execution_count": 178,
   "metadata": {},
   "outputs": [
    {
     "data": {
      "text/html": [
       "<div>\n",
       "<style scoped>\n",
       "    .dataframe tbody tr th:only-of-type {\n",
       "        vertical-align: middle;\n",
       "    }\n",
       "\n",
       "    .dataframe tbody tr th {\n",
       "        vertical-align: top;\n",
       "    }\n",
       "\n",
       "    .dataframe thead th {\n",
       "        text-align: right;\n",
       "    }\n",
       "</style>\n",
       "<table border=\"1\" class=\"dataframe\">\n",
       "  <thead>\n",
       "    <tr style=\"text-align: right;\">\n",
       "      <th></th>\n",
       "      <th>dress</th>\n",
       "      <th>price</th>\n",
       "    </tr>\n",
       "  </thead>\n",
       "  <tbody>\n",
       "    <tr>\n",
       "      <th>19</th>\n",
       "      <td>**Showcase Coral Chiffon 'Maya' Maxi Dress</td>\n",
       "      <td>10554.00</td>\n",
       "    </tr>\n",
       "    <tr>\n",
       "      <th>15</th>\n",
       "      <td>**Showcase Blue 'Sienna' Floral Print Maxi Dress</td>\n",
       "      <td>9850.40</td>\n",
       "    </tr>\n",
       "    <tr>\n",
       "      <th>18</th>\n",
       "      <td>Striped Belted Hi Lo Midi Dress</td>\n",
       "      <td>6332.40</td>\n",
       "    </tr>\n",
       "    <tr>\n",
       "      <th>16</th>\n",
       "      <td>Blue Crossover Striped Midi Dress</td>\n",
       "      <td>5910.24</td>\n",
       "    </tr>\n",
       "    <tr>\n",
       "      <th>9</th>\n",
       "      <td>Petite Multi Colured Striped Midi Dress</td>\n",
       "      <td>5910.24</td>\n",
       "    </tr>\n",
       "    <tr>\n",
       "      <th>1</th>\n",
       "      <td>**Tall Multi-Coloured Striped Midi Wrap Dress</td>\n",
       "      <td>5910.24</td>\n",
       "    </tr>\n",
       "    <tr>\n",
       "      <th>12</th>\n",
       "      <td>Black Polka-Dot Print Shirt Dress</td>\n",
       "      <td>4925.20</td>\n",
       "    </tr>\n",
       "    <tr>\n",
       "      <th>2</th>\n",
       "      <td>Petite Multi-Coloured Striped Mini Shirt Dress</td>\n",
       "      <td>4925.20</td>\n",
       "    </tr>\n",
       "    <tr>\n",
       "      <th>17</th>\n",
       "      <td>**Billie &amp; Blossom Navy Printed V-Neck Skater ...</td>\n",
       "      <td>4925.20</td>\n",
       "    </tr>\n",
       "    <tr>\n",
       "      <th>5</th>\n",
       "      <td>Petite Yellow Floral Shirt Dress</td>\n",
       "      <td>4925.20</td>\n",
       "    </tr>\n",
       "    <tr>\n",
       "      <th>14</th>\n",
       "      <td>Cream Floral Print Shift Dress</td>\n",
       "      <td>4925.20</td>\n",
       "    </tr>\n",
       "    <tr>\n",
       "      <th>0</th>\n",
       "      <td>Leopard Print Roll Neck Shift Dress</td>\n",
       "      <td>4503.04</td>\n",
       "    </tr>\n",
       "    <tr>\n",
       "      <th>11</th>\n",
       "      <td>Rust Aztec Print Shift Dress</td>\n",
       "      <td>4503.04</td>\n",
       "    </tr>\n",
       "    <tr>\n",
       "      <th>7</th>\n",
       "      <td>**Billie &amp; Blossom Petite Mulberry Floral Dress</td>\n",
       "      <td>4503.04</td>\n",
       "    </tr>\n",
       "    <tr>\n",
       "      <th>10</th>\n",
       "      <td>**Billie &amp; Blossom Petite Black Cherry Printed...</td>\n",
       "      <td>4503.04</td>\n",
       "    </tr>\n",
       "    <tr>\n",
       "      <th>13</th>\n",
       "      <td>Yellow Tortoiseshell Button Shift Dress</td>\n",
       "      <td>4221.60</td>\n",
       "    </tr>\n",
       "    <tr>\n",
       "      <th>3</th>\n",
       "      <td>Grey Checked Sleevless Shift Dress</td>\n",
       "      <td>4080.88</td>\n",
       "    </tr>\n",
       "    <tr>\n",
       "      <th>8</th>\n",
       "      <td>*DP Beach Ivory Tasselled Tile-Print Midi Dress</td>\n",
       "      <td>3940.16</td>\n",
       "    </tr>\n",
       "    <tr>\n",
       "      <th>6</th>\n",
       "      <td>Cobalt Blue Pleat Wrap Pencil Dress</td>\n",
       "      <td>3658.72</td>\n",
       "    </tr>\n",
       "    <tr>\n",
       "      <th>4</th>\n",
       "      <td>Navy Striped Bodycon Dress</td>\n",
       "      <td>2532.96</td>\n",
       "    </tr>\n",
       "  </tbody>\n",
       "</table>\n",
       "</div>"
      ],
      "text/plain": [
       "                                                dress     price\n",
       "19         **Showcase Coral Chiffon 'Maya' Maxi Dress  10554.00\n",
       "15   **Showcase Blue 'Sienna' Floral Print Maxi Dress   9850.40\n",
       "18                    Striped Belted Hi Lo Midi Dress   6332.40\n",
       "16                  Blue Crossover Striped Midi Dress   5910.24\n",
       "9             Petite Multi Colured Striped Midi Dress   5910.24\n",
       "1       **Tall Multi-Coloured Striped Midi Wrap Dress   5910.24\n",
       "12                  Black Polka-Dot Print Shirt Dress   4925.20\n",
       "2      Petite Multi-Coloured Striped Mini Shirt Dress   4925.20\n",
       "17  **Billie & Blossom Navy Printed V-Neck Skater ...   4925.20\n",
       "5                    Petite Yellow Floral Shirt Dress   4925.20\n",
       "14                     Cream Floral Print Shift Dress   4925.20\n",
       "0                 Leopard Print Roll Neck Shift Dress   4503.04\n",
       "11                       Rust Aztec Print Shift Dress   4503.04\n",
       "7     **Billie & Blossom Petite Mulberry Floral Dress   4503.04\n",
       "10  **Billie & Blossom Petite Black Cherry Printed...   4503.04\n",
       "13            Yellow Tortoiseshell Button Shift Dress   4221.60\n",
       "3                  Grey Checked Sleevless Shift Dress   4080.88\n",
       "8     *DP Beach Ivory Tasselled Tile-Print Midi Dress   3940.16\n",
       "6                 Cobalt Blue Pleat Wrap Pencil Dress   3658.72\n",
       "4                          Navy Striped Bodycon Dress   2532.96"
      ]
     },
     "execution_count": 178,
     "metadata": {},
     "output_type": "execute_result"
    }
   ],
   "source": [
    "df.sort_values(by=['price'],ascending=False)"
   ]
  },
  {
   "cell_type": "code",
   "execution_count": null,
   "metadata": {},
   "outputs": [],
   "source": []
  }
 ],
 "metadata": {
  "kernelspec": {
   "display_name": "Python 3",
   "language": "python",
   "name": "python3"
  },
  "language_info": {
   "codemirror_mode": {
    "name": "ipython",
    "version": 3
   },
   "file_extension": ".py",
   "mimetype": "text/x-python",
   "name": "python",
   "nbconvert_exporter": "python",
   "pygments_lexer": "ipython3",
   "version": "3.6.3"
  }
 },
 "nbformat": 4,
 "nbformat_minor": 2
}
