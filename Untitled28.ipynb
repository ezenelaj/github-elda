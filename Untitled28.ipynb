{
 "cells": [
  {
   "cell_type": "code",
   "execution_count": 3,
   "metadata": {},
   "outputs": [],
   "source": [
    "def right_circx(x,y,r,s,circ_list):\n",
    "    if x<=s and y<=s and int(x)==x and int(r)==r and int(y)==y and x>=0 and y>=0:\n",
    "        circ_list.append((x,y))\n",
    "        print (\"rightx\",x,y)\n",
    "        x=x+r+r/2\n",
    "        r=r/2\n",
    "        if x<=s and y<=s and int(x)==x and int(r)==r and int(y)==y and x>=0 and y>=0:\n",
    "            right_circx(x,y,r,s,circ_list)\n",
    "            up_circy(x,y,r,s,circ_list)\n",
    "            down_circy(x,y,r,s,circ_list)\n",
    "            right_circx(x,y,r,s,circ_list)\n",
    "\n",
    "def up_circy(x,y,r,s,circ_list):\n",
    "    if x<=s and y<=s and int(x)==x and int(r)==r and int(y)==y and x>=0 and y>=0:\n",
    "        circ_list.append((x,y))\n",
    "        print (\"upy\",x,y)\n",
    "        y=y+r+r/2\n",
    "        r=r/2\n",
    "        if y<=s and x<=s and int(y)==y and int(r)==r:\n",
    "                #up_circy(x,y,r,s)\n",
    "                right_circx(x,y,r,s,circ_list)\n",
    "                left_circx(x,y,r,s,circ_list)\n",
    "                up_circy(x,y,r,s,circ_list)\n",
    "                \n",
    "def down_circy(x,y,r,s,circ_list):\n",
    "    if x<=s and y<=s and int(x)==x and int(r)==r and int(y)==y and x>=0 and y>=0:\n",
    "        circ_list.append((x,y))\n",
    "        print (\"downy\",x,y)\n",
    "        y=y-r-r/2\n",
    "        r=r/2\n",
    "    \n",
    "        if y<=s and x<=s and int(y)==y and int(r)==r and x>=0 and y>=0:\n",
    "                #down_circy(x,y,r,s)\n",
    "                right_circx(x,y,r,s,circ_list)\n",
    "                left_circx(x,y,r,s,circ_list)\n",
    "                down_circy(x,y,r,s,circ_list)\n",
    "                \n",
    "def left_circx(x,y,r,s,circ_list):\n",
    "    if x<=s and y<=s and int(x)==x and int(r)==r and int(y)==y and x>=0 and y>=0:\n",
    "        circ_list.append((x,y))\n",
    "        print (\"leftx\",x,y)\n",
    "        x=x-r-r/2\n",
    "        r=r/2\n",
    "        if x<=s and y<=s and int(x)==x and int(r)==r and int(y)==y:\n",
    "             #left_circx(x,y,r,s)\n",
    "             up_circy(x,y,r,s,circ_list)\n",
    "             down_circy(x,y,r,s,circ_list)\n",
    "             left_circx(x,y,r,s,circ_list) \n",
    "            \n",
    "def circle(x,y,r,s):\n",
    "    circ_list=[]\n",
    "    if x<=r:\n",
    "        print (\"first right x\"+\"\\n\")\n",
    "        right_circx(x,y,r,s,circ_list)\n",
    "    if y<=r:\n",
    "        print (\"\\n\")\n",
    "        print (\"first up y\"+\"\\n\")\n",
    "        up_circy(x,y,r,s,circ_list)\n",
    "    #if x>=r:\n",
    "    #print (\"\\n\")\n",
    "    #print (\"first left x\"+\"\\n\")\n",
    "    left_circx(x,y,r,s,circ_list)\n",
    "    if y>=r:\n",
    "        print (\"\\n\")\n",
    "        print (\"first down y\"+\"\\n\")\n",
    "        down_circy(x,y,r,s,circ_list)\n",
    "    return len(list(set(circ_list)))"
   ]
  },
  {
   "cell_type": "code",
   "execution_count": 2,
   "metadata": {},
   "outputs": [
    {
     "name": "stdout",
     "output_type": "stream",
     "text": [
      "\n",
      "\n",
      "first up y\n",
      "\n",
      "upy 7 4\n",
      "rightx 7 10.0\n",
      "rightx 10.0 10.0\n",
      "upy 10.0 10.0\n",
      "downy 10.0 10.0\n",
      "rightx 10.0 10.0\n",
      "leftx 7 10.0\n",
      "upy 4.0 10.0\n",
      "downy 4.0 10.0\n",
      "leftx 4.0 10.0\n",
      "upy 7 10.0\n",
      "leftx 7 4\n",
      "upy 1.0 4\n",
      "rightx 1.0 7.0\n",
      "leftx 1.0 7.0\n",
      "upy 1.0 7.0\n",
      "downy 1.0 4\n",
      "rightx 1.0 1.0\n",
      "leftx 1.0 1.0\n",
      "downy 1.0 1.0\n",
      "leftx 1.0 4\n",
      "\n",
      "\n",
      "first down y\n",
      "\n",
      "downy 7 4\n"
     ]
    },
    {
     "data": {
      "text/plain": [
       "7"
      ]
     },
     "execution_count": 2,
     "metadata": {},
     "output_type": "execute_result"
    }
   ],
   "source": [
    "circle(7,4,4,10)"
   ]
  },
  {
   "cell_type": "code",
   "execution_count": null,
   "metadata": {},
   "outputs": [],
   "source": []
  },
  {
   "cell_type": "code",
   "execution_count": null,
   "metadata": {},
   "outputs": [],
   "source": []
  }
 ],
 "metadata": {
  "kernelspec": {
   "display_name": "Python 3",
   "language": "python",
   "name": "python3"
  },
  "language_info": {
   "codemirror_mode": {
    "name": "ipython",
    "version": 3
   },
   "file_extension": ".py",
   "mimetype": "text/x-python",
   "name": "python",
   "nbconvert_exporter": "python",
   "pygments_lexer": "ipython3",
   "version": "3.6.3"
  }
 },
 "nbformat": 4,
 "nbformat_minor": 2
}
