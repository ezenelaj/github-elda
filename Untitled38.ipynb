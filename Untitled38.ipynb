{
 "cells": [
  {
   "cell_type": "code",
   "execution_count": 137,
   "metadata": {},
   "outputs": [],
   "source": [
    "def num_avg():\n",
    "    k=0\n",
    "    numbers=input(\"number of elements\")\n",
    "    c=list(map(int,input().split()))\n",
    "    avg=int(sum(c)/int(numbers))\n",
    "    for i in c:\n",
    "        if i>avg:\n",
    "            k=k+1\n",
    "    return k"
   ]
  },
  {
   "cell_type": "code",
   "execution_count": null,
   "metadata": {},
   "outputs": [],
   "source": [
    "def seq_num():\n",
    "    lista=[]\n",
    "    num=input(\"number of elements\")\n",
    "    j=0\n",
    "    while j<int(num):\n",
    "        c=input()\n",
    "        lista.append(c)\n",
    "        j=j+1\n",
    "    return lista"
   ]
  },
  {
   "cell_type": "code",
   "execution_count": null,
   "metadata": {},
   "outputs": [],
   "source": [
    "seq_num()"
   ]
  },
  {
   "cell_type": "code",
   "execution_count": null,
   "metadata": {},
   "outputs": [],
   "source": []
  }
 ],
 "metadata": {
  "kernelspec": {
   "display_name": "Python 3",
   "language": "python",
   "name": "python3"
  },
  "language_info": {
   "codemirror_mode": {
    "name": "ipython",
    "version": 3
   },
   "file_extension": ".py",
   "mimetype": "text/x-python",
   "name": "python",
   "nbconvert_exporter": "python",
   "pygments_lexer": "ipython3",
   "version": "3.6.3"
  }
 },
 "nbformat": 4,
 "nbformat_minor": 2
}
