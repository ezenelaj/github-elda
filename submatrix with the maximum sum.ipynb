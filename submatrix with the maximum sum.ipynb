{
 "cells": [
  {
   "cell_type": "code",
   "execution_count": 518,
   "metadata": {},
   "outputs": [],
   "source": [
    "def sum_bound(array,co_list):\n",
    "        ex=array[0,0]+array[0,co_list[1]-1]+array[co_list[0]-1,0]+array[co_list[0]-1,co_list[1]-1]\n",
    "        return sum(array[co_list[0]-1,:])+sum(array[0,:])+sum(array[:,0])+sum(array[:,co_list[1]-1])-ex\n",
    "    \n",
    "def partial(array,row_start,col_start,row_end,col_end):\n",
    "    matrica=array[row_start:row_end+1,col_start:col_end+1]\n",
    "    lista=[row_end+1-row_start,col_end+1-col_start]\n",
    "    return sum_bound(matrica,lista)\n",
    "\n",
    "\n",
    "def max_sum_matr(array):\n",
    "    lista_sum=[]\n",
    "    lista_dimen=[]  \n",
    "    for l in range(0,5):\n",
    "        for j in range(1,5):\n",
    "            k=0\n",
    "            while k<5:\n",
    "                for i in range(1,5):\n",
    "                    if j-l>1 and i+1-k>1 and len((array[l:j,k:i]))>1:\n",
    "                        sub_matrica=array[l:j,k:i]\n",
    "                        co_list=[j-l,i-k]\n",
    "                        lista_dimen.append((l,k,j,i))\n",
    "                        lista_sum.append(sum_bound(sub_matrica,co_list))\n",
    "                k=k+1\n",
    "    print ((max(lista_sum)))\n",
    "    axes=lista_dimen[lista_sum.index(max(lista_sum))]\n",
    "    print (axes)\n",
    "    print (matrix[axes[0]:axes[2],axes[1]:axes[3]])\n",
    "    \n",
    "    \n",
    "\n",
    "def bound():\n",
    "    import numpy as np\n",
    "    coordinate=list(map(int,input(\"provide matrix dimensions\").split(\" \")))\n",
    "    elements=list(map(int,input(\"\").split(\" \")))\n",
    "    matr=np.array(elements).reshape(coordinate[0],coordinate[1])\n",
    "    #print (sum_bound(matr,coordinate))\n",
    "    max_sum_matr(matr)\n"
   ]
  },
  {
   "cell_type": "code",
   "execution_count": 519,
   "metadata": {},
   "outputs": [
    {
     "name": "stdout",
     "output_type": "stream",
     "text": [
      "provide matrix dimensions4 5\n",
      "1 8 1 1 1 1 1 1 9 1 1 1 9 1 1 0 1 1 1 0\n",
      "33\n",
      "(0, 0, 3, 4)\n",
      "[[1 8 1 1]\n",
      " [1 1 1 9]\n",
      " [1 1 9 1]]\n"
     ]
    }
   ],
   "source": [
    "bound()"
   ]
  },
  {
   "cell_type": "code",
   "execution_count": null,
   "metadata": {},
   "outputs": [],
   "source": []
  }
 ],
 "metadata": {
  "kernelspec": {
   "display_name": "Python 3",
   "language": "python",
   "name": "python3"
  },
  "language_info": {
   "codemirror_mode": {
    "name": "ipython",
    "version": 3
   },
   "file_extension": ".py",
   "mimetype": "text/x-python",
   "name": "python",
   "nbconvert_exporter": "python",
   "pygments_lexer": "ipython3",
   "version": "3.6.3"
  }
 },
 "nbformat": 4,
 "nbformat_minor": 2
}
