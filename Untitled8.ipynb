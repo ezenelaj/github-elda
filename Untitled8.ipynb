{
 "cells": [
  {
   "cell_type": "code",
   "execution_count": 1,
   "metadata": {},
   "outputs": [],
   "source": [
    "import requests\n",
    "from bs4 import BeautifulSoup"
   ]
  },
  {
   "cell_type": "code",
   "execution_count": 4,
   "metadata": {},
   "outputs": [],
   "source": [
    "r=requests.get(\"https://www.megateksa.com/al/sq/catalog/gardening-flowers-and-plants\")"
   ]
  },
  {
   "cell_type": "code",
   "execution_count": 5,
   "metadata": {},
   "outputs": [],
   "source": [
    "c=r.content"
   ]
  },
  {
   "cell_type": "code",
   "execution_count": 7,
   "metadata": {},
   "outputs": [],
   "source": [
    "soup=BeautifulSoup(c,\"html.parser\")"
   ]
  },
  {
   "cell_type": "code",
   "execution_count": 9,
   "metadata": {},
   "outputs": [],
   "source": [
    "s1=soup.find_all(\"li\",{\"class\":\"item\"})"
   ]
  },
  {
   "cell_type": "code",
   "execution_count": 45,
   "metadata": {},
   "outputs": [],
   "source": [
    "list1=list(s1[i].find(\"p\",{\"class\":\"product-title\"}).text for i in range(len(s1)))\n",
    "list2=list(s1[i].find(\"strong\",{\"class\":\"final-price\"}).text.rstrip(\" LEK\") for i in range(len(s1)))"
   ]
  },
  {
   "cell_type": "code",
   "execution_count": 47,
   "metadata": {},
   "outputs": [],
   "source": [
    "d={\"product\":list1,\"price\":list2}"
   ]
  },
  {
   "cell_type": "code",
   "execution_count": 53,
   "metadata": {},
   "outputs": [],
   "source": [
    "import pandas as pd\n",
    "pd.options.display.max_colwidth = 100\n"
   ]
  },
  {
   "cell_type": "code",
   "execution_count": 50,
   "metadata": {},
   "outputs": [],
   "source": [
    "df=pd.DataFrame(d)"
   ]
  },
  {
   "cell_type": "code",
   "execution_count": 57,
   "metadata": {},
   "outputs": [],
   "source": [
    "df['price']=pd.to_numeric(df['price'])"
   ]
  },
  {
   "cell_type": "code",
   "execution_count": 60,
   "metadata": {},
   "outputs": [
    {
     "data": {
      "text/html": [
       "<div>\n",
       "<style scoped>\n",
       "    .dataframe tbody tr th:only-of-type {\n",
       "        vertical-align: middle;\n",
       "    }\n",
       "\n",
       "    .dataframe tbody tr th {\n",
       "        vertical-align: top;\n",
       "    }\n",
       "\n",
       "    .dataframe thead th {\n",
       "        text-align: right;\n",
       "    }\n",
       "</style>\n",
       "<table border=\"1\" class=\"dataframe\">\n",
       "  <thead>\n",
       "    <tr style=\"text-align: right;\">\n",
       "      <th></th>\n",
       "      <th>price</th>\n",
       "      <th>product</th>\n",
       "    </tr>\n",
       "  </thead>\n",
       "  <tbody>\n",
       "    <tr>\n",
       "      <th>3</th>\n",
       "      <td>890.00</td>\n",
       "      <td>Luftues bioligjik per hirin te bimet 500ml</td>\n",
       "    </tr>\n",
       "    <tr>\n",
       "      <th>4</th>\n",
       "      <td>850.00</td>\n",
       "      <td>Luftues bioligjik per insekte (breshkezen) te bimet 500ml</td>\n",
       "    </tr>\n",
       "    <tr>\n",
       "      <th>5</th>\n",
       "      <td>850.00</td>\n",
       "      <td>Luftues bioligjik per insekte (per morrin) te bimet 500ml</td>\n",
       "    </tr>\n",
       "    <tr>\n",
       "      <th>17</th>\n",
       "      <td>600.00</td>\n",
       "      <td>Aromi Rosmarino v.14</td>\n",
       "    </tr>\n",
       "    <tr>\n",
       "      <th>8</th>\n",
       "      <td>490.00</td>\n",
       "      <td>Xhel ujites per 30 dite</td>\n",
       "    </tr>\n",
       "    <tr>\n",
       "      <th>1</th>\n",
       "      <td>450.00</td>\n",
       "      <td>USHQYES i Lengshem Per Agrume, 1150gr</td>\n",
       "    </tr>\n",
       "    <tr>\n",
       "      <th>16</th>\n",
       "      <td>395.00</td>\n",
       "      <td>Bimë aromatike borzilok v14</td>\n",
       "    </tr>\n",
       "    <tr>\n",
       "      <th>6</th>\n",
       "      <td>390.00</td>\n",
       "      <td>Luftues bioligjik per insekte (per kermillin) te bimet 1000g</td>\n",
       "    </tr>\n",
       "    <tr>\n",
       "      <th>18</th>\n",
       "      <td>380.00</td>\n",
       "      <td>Dimorphotheca sinuata v14</td>\n",
       "    </tr>\n",
       "    <tr>\n",
       "      <th>19</th>\n",
       "      <td>360.00</td>\n",
       "      <td>Cyclaminv14</td>\n",
       "    </tr>\n",
       "    <tr>\n",
       "      <th>12</th>\n",
       "      <td>330.00</td>\n",
       "      <td>Petroselinum hortense v14, (majdanoz gjethe gjerë)</td>\n",
       "    </tr>\n",
       "    <tr>\n",
       "      <th>13</th>\n",
       "      <td>299.00</td>\n",
       "      <td>Sherbela v14(Salvia)</td>\n",
       "    </tr>\n",
       "    <tr>\n",
       "      <th>15</th>\n",
       "      <td>249.00</td>\n",
       "      <td>Bimë aromatike Rigon v14</td>\n",
       "    </tr>\n",
       "    <tr>\n",
       "      <th>14</th>\n",
       "      <td>99.00</td>\n",
       "      <td>Bime aromatike Borzilok v10 h20</td>\n",
       "    </tr>\n",
       "    <tr>\n",
       "      <th>20</th>\n",
       "      <td>95.00</td>\n",
       "      <td>Primula v 10</td>\n",
       "    </tr>\n",
       "    <tr>\n",
       "      <th>11</th>\n",
       "      <td>9.40</td>\n",
       "      <td>Serë lulesh dhe bimësh, L143xP143xH195 cm</td>\n",
       "    </tr>\n",
       "    <tr>\n",
       "      <th>2</th>\n",
       "      <td>5.50</td>\n",
       "      <td>Sere lulesh dhe bimesh, 180x142x93 cm</td>\n",
       "    </tr>\n",
       "    <tr>\n",
       "      <th>0</th>\n",
       "      <td>3.95</td>\n",
       "      <td>Minisere per bime aromatike</td>\n",
       "    </tr>\n",
       "    <tr>\n",
       "      <th>10</th>\n",
       "      <td>3.70</td>\n",
       "      <td>Serë lulesh dhe bimësh,  L180xP90xH90 cm</td>\n",
       "    </tr>\n",
       "    <tr>\n",
       "      <th>9</th>\n",
       "      <td>3.60</td>\n",
       "      <td>Sere lulesh dhe bimesh me 3 rafte CM.69X49X130H</td>\n",
       "    </tr>\n",
       "    <tr>\n",
       "      <th>7</th>\n",
       "      <td>1.29</td>\n",
       "      <td>Acid per te eleminuar barerat e keqeja  qe dalin  neper pllaka trotuari 1000ml</td>\n",
       "    </tr>\n",
       "  </tbody>\n",
       "</table>\n",
       "</div>"
      ],
      "text/plain": [
       "     price  \\\n",
       "3   890.00   \n",
       "4   850.00   \n",
       "5   850.00   \n",
       "17  600.00   \n",
       "8   490.00   \n",
       "1   450.00   \n",
       "16  395.00   \n",
       "6   390.00   \n",
       "18  380.00   \n",
       "19  360.00   \n",
       "12  330.00   \n",
       "13  299.00   \n",
       "15  249.00   \n",
       "14   99.00   \n",
       "20   95.00   \n",
       "11    9.40   \n",
       "2     5.50   \n",
       "0     3.95   \n",
       "10    3.70   \n",
       "9     3.60   \n",
       "7     1.29   \n",
       "\n",
       "                                                                           product  \n",
       "3                                       Luftues bioligjik per hirin te bimet 500ml  \n",
       "4                        Luftues bioligjik per insekte (breshkezen) te bimet 500ml  \n",
       "5                        Luftues bioligjik per insekte (per morrin) te bimet 500ml  \n",
       "17                                                            Aromi Rosmarino v.14  \n",
       "8                                                          Xhel ujites per 30 dite  \n",
       "1                                            USHQYES i Lengshem Per Agrume, 1150gr  \n",
       "16                                                     Bimë aromatike borzilok v14  \n",
       "6                     Luftues bioligjik per insekte (per kermillin) te bimet 1000g  \n",
       "18                                                       Dimorphotheca sinuata v14  \n",
       "19                                                                     Cyclaminv14  \n",
       "12                              Petroselinum hortense v14, (majdanoz gjethe gjerë)  \n",
       "13                                                            Sherbela v14(Salvia)  \n",
       "15                                                        Bimë aromatike Rigon v14  \n",
       "14                                                 Bime aromatike Borzilok v10 h20  \n",
       "20                                                                    Primula v 10  \n",
       "11                                       Serë lulesh dhe bimësh, L143xP143xH195 cm  \n",
       "2                                            Sere lulesh dhe bimesh, 180x142x93 cm  \n",
       "0                                                     Minisere per bime aromatike   \n",
       "10                                        Serë lulesh dhe bimësh,  L180xP90xH90 cm  \n",
       "9                                  Sere lulesh dhe bimesh me 3 rafte CM.69X49X130H  \n",
       "7   Acid per te eleminuar barerat e keqeja  qe dalin  neper pllaka trotuari 1000ml  "
      ]
     },
     "execution_count": 60,
     "metadata": {},
     "output_type": "execute_result"
    }
   ],
   "source": [
    "df.sort_values(by=['price'],ascending=False)"
   ]
  },
  {
   "cell_type": "code",
   "execution_count": 63,
   "metadata": {},
   "outputs": [
    {
     "data": {
      "text/html": [
       "<div>\n",
       "<style scoped>\n",
       "    .dataframe tbody tr th:only-of-type {\n",
       "        vertical-align: middle;\n",
       "    }\n",
       "\n",
       "    .dataframe tbody tr th {\n",
       "        vertical-align: top;\n",
       "    }\n",
       "\n",
       "    .dataframe thead th {\n",
       "        text-align: right;\n",
       "    }\n",
       "</style>\n",
       "<table border=\"1\" class=\"dataframe\">\n",
       "  <thead>\n",
       "    <tr style=\"text-align: right;\">\n",
       "      <th></th>\n",
       "      <th>price</th>\n",
       "      <th>product</th>\n",
       "    </tr>\n",
       "  </thead>\n",
       "  <tbody>\n",
       "    <tr>\n",
       "      <th>0</th>\n",
       "      <td>3.95</td>\n",
       "      <td>Minisere per bime aromatike</td>\n",
       "    </tr>\n",
       "    <tr>\n",
       "      <th>2</th>\n",
       "      <td>5.50</td>\n",
       "      <td>Sere lulesh dhe bimesh, 180x142x93 cm</td>\n",
       "    </tr>\n",
       "    <tr>\n",
       "      <th>7</th>\n",
       "      <td>1.29</td>\n",
       "      <td>Acid per te eleminuar barerat e keqeja  qe dalin  neper pllaka trotuari 1000ml</td>\n",
       "    </tr>\n",
       "    <tr>\n",
       "      <th>9</th>\n",
       "      <td>3.60</td>\n",
       "      <td>Sere lulesh dhe bimesh me 3 rafte CM.69X49X130H</td>\n",
       "    </tr>\n",
       "    <tr>\n",
       "      <th>10</th>\n",
       "      <td>3.70</td>\n",
       "      <td>Serë lulesh dhe bimësh,  L180xP90xH90 cm</td>\n",
       "    </tr>\n",
       "    <tr>\n",
       "      <th>11</th>\n",
       "      <td>9.40</td>\n",
       "      <td>Serë lulesh dhe bimësh, L143xP143xH195 cm</td>\n",
       "    </tr>\n",
       "    <tr>\n",
       "      <th>13</th>\n",
       "      <td>299.00</td>\n",
       "      <td>Sherbela v14(Salvia)</td>\n",
       "    </tr>\n",
       "    <tr>\n",
       "      <th>14</th>\n",
       "      <td>99.00</td>\n",
       "      <td>Bime aromatike Borzilok v10 h20</td>\n",
       "    </tr>\n",
       "    <tr>\n",
       "      <th>15</th>\n",
       "      <td>249.00</td>\n",
       "      <td>Bimë aromatike Rigon v14</td>\n",
       "    </tr>\n",
       "    <tr>\n",
       "      <th>20</th>\n",
       "      <td>95.00</td>\n",
       "      <td>Primula v 10</td>\n",
       "    </tr>\n",
       "  </tbody>\n",
       "</table>\n",
       "</div>"
      ],
      "text/plain": [
       "     price  \\\n",
       "0     3.95   \n",
       "2     5.50   \n",
       "7     1.29   \n",
       "9     3.60   \n",
       "10    3.70   \n",
       "11    9.40   \n",
       "13  299.00   \n",
       "14   99.00   \n",
       "15  249.00   \n",
       "20   95.00   \n",
       "\n",
       "                                                                           product  \n",
       "0                                                     Minisere per bime aromatike   \n",
       "2                                            Sere lulesh dhe bimesh, 180x142x93 cm  \n",
       "7   Acid per te eleminuar barerat e keqeja  qe dalin  neper pllaka trotuari 1000ml  \n",
       "9                                  Sere lulesh dhe bimesh me 3 rafte CM.69X49X130H  \n",
       "10                                        Serë lulesh dhe bimësh,  L180xP90xH90 cm  \n",
       "11                                       Serë lulesh dhe bimësh, L143xP143xH195 cm  \n",
       "13                                                            Sherbela v14(Salvia)  \n",
       "14                                                 Bime aromatike Borzilok v10 h20  \n",
       "15                                                        Bimë aromatike Rigon v14  \n",
       "20                                                                    Primula v 10  "
      ]
     },
     "execution_count": 63,
     "metadata": {},
     "output_type": "execute_result"
    }
   ],
   "source": [
    "df.loc[df['price']<300]"
   ]
  },
  {
   "cell_type": "code",
   "execution_count": 77,
   "metadata": {},
   "outputs": [
    {
     "data": {
      "text/html": [
       "<div>\n",
       "<style scoped>\n",
       "    .dataframe tbody tr th:only-of-type {\n",
       "        vertical-align: middle;\n",
       "    }\n",
       "\n",
       "    .dataframe tbody tr th {\n",
       "        vertical-align: top;\n",
       "    }\n",
       "\n",
       "    .dataframe thead th {\n",
       "        text-align: right;\n",
       "    }\n",
       "</style>\n",
       "<table border=\"1\" class=\"dataframe\">\n",
       "  <thead>\n",
       "    <tr style=\"text-align: right;\">\n",
       "      <th></th>\n",
       "      <th>price</th>\n",
       "      <th>product</th>\n",
       "    </tr>\n",
       "  </thead>\n",
       "  <tbody>\n",
       "    <tr>\n",
       "      <th>14</th>\n",
       "      <td>99.0</td>\n",
       "      <td>Bime aromatike Borzilok v10 h20</td>\n",
       "    </tr>\n",
       "    <tr>\n",
       "      <th>16</th>\n",
       "      <td>395.0</td>\n",
       "      <td>Bimë aromatike borzilok v14</td>\n",
       "    </tr>\n",
       "  </tbody>\n",
       "</table>\n",
       "</div>"
      ],
      "text/plain": [
       "    price                          product\n",
       "14   99.0  Bime aromatike Borzilok v10 h20\n",
       "16  395.0      Bimë aromatike borzilok v14"
      ]
     },
     "execution_count": 77,
     "metadata": {},
     "output_type": "execute_result"
    }
   ],
   "source": [
    "df[df['product'].str.lower().str.contains(\"borzilok\")]"
   ]
  },
  {
   "cell_type": "code",
   "execution_count": 79,
   "metadata": {},
   "outputs": [
    {
     "data": {
      "text/plain": [
       "(21, 2)"
      ]
     },
     "execution_count": 79,
     "metadata": {},
     "output_type": "execute_result"
    }
   ],
   "source": [
    "df.shape"
   ]
  },
  {
   "cell_type": "code",
   "execution_count": null,
   "metadata": {},
   "outputs": [],
   "source": []
  },
  {
   "cell_type": "code",
   "execution_count": null,
   "metadata": {},
   "outputs": [],
   "source": []
  }
 ],
 "metadata": {
  "kernelspec": {
   "display_name": "Python 3",
   "language": "python",
   "name": "python3"
  },
  "language_info": {
   "codemirror_mode": {
    "name": "ipython",
    "version": 3
   },
   "file_extension": ".py",
   "mimetype": "text/x-python",
   "name": "python",
   "nbconvert_exporter": "python",
   "pygments_lexer": "ipython3",
   "version": "3.6.3"
  }
 },
 "nbformat": 4,
 "nbformat_minor": 2
}
