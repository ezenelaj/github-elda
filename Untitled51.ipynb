{
 "cells": [
  {
   "cell_type": "code",
   "execution_count": 62,
   "metadata": {},
   "outputs": [],
   "source": [
    "def missing_num():\n",
    "    n=int(input(\"number of elements\"))\n",
    "    list1=list(map(int,input().split(\" \")))\n",
    "    list2=list(map(int,input().split(\" \")))\n",
    "    for i in list1:\n",
    "        if i not in list2:\n",
    "            print ('missing number is',i)"
   ]
  },
  {
   "cell_type": "code",
   "execution_count": 163,
   "metadata": {},
   "outputs": [],
   "source": [
    "def snake(n):\n",
    "    for i in range(0,n):\n",
    "        if i%2==1:\n",
    "         #   print (i)\n",
    "            print ('S'*n)\n",
    "        if i%4==0:\n",
    "         #   print (i)\n",
    "            print ('.'*(n-1)+'S')\n",
    "        if i%2==0 and i%4!=0 and i>0:\n",
    "            #print (i)\n",
    "            print ('S'+'.'*(n-1))"
   ]
  }
 ],
 "metadata": {
  "kernelspec": {
   "display_name": "Python 3",
   "language": "python",
   "name": "python3"
  },
  "language_info": {
   "codemirror_mode": {
    "name": "ipython",
    "version": 3
   },
   "file_extension": ".py",
   "mimetype": "text/x-python",
   "name": "python",
   "nbconvert_exporter": "python",
   "pygments_lexer": "ipython3",
   "version": "3.6.3"
  }
 },
 "nbformat": 4,
 "nbformat_minor": 2
}
