{
 "cells": [
  {
   "cell_type": "code",
   "execution_count": 1,
   "metadata": {},
   "outputs": [],
   "source": [
    "def normalisation():\n",
    "    print (\"this is the normalisation\")\n",
    "    import numpy as np\n",
    "    matr_dim=list(map(int,input(\"matrix dimensions\").split(\" \")))\n",
    "    data=list(map(int,input().split(\" \")))\n",
    "    norm=list(map(int,input(\"min  max norm\" ).split(\" \")))\n",
    "    array=np.array(data)\n",
    "    matr=array.reshape(matr_dim[0],matr_dim[1])\n",
    "    norm_diff=norm[1]-norm[0]\n",
    "    lista=[]\n",
    "    for i in range(matr_dim[0]):\n",
    "        matr_dif=matr[i:i+1,0:].max()-matr[i:i+1,0:].min()\n",
    "        for j in range(matr_dim[1]):\n",
    "            k=(norm_diff*(matr[i][j]-matr[i:i+1,0:].min())/matr_dif)+norm[0]\n",
    "            lista.append(round(k,4))\n",
    "    array=np.array(lista)\n",
    "    return array.reshape(matr_dim[0],matr_dim[1])"
   ]
  },
  {
   "cell_type": "code",
   "execution_count": null,
   "metadata": {},
   "outputs": [],
   "source": []
  }
 ],
 "metadata": {
  "kernelspec": {
   "display_name": "Python 3",
   "language": "python",
   "name": "python3"
  },
  "language_info": {
   "codemirror_mode": {
    "name": "ipython",
    "version": 3
   },
   "file_extension": ".py",
   "mimetype": "text/x-python",
   "name": "python",
   "nbconvert_exporter": "python",
   "pygments_lexer": "ipython3",
   "version": "3.6.3"
  }
 },
 "nbformat": 4,
 "nbformat_minor": 2
}
