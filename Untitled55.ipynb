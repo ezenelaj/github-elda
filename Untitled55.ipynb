{
 "cells": [
  {
   "cell_type": "code",
   "execution_count": 483,
   "metadata": {},
   "outputs": [],
   "source": [
    "def circlex1(r,x,s,y):\n",
    "    if r%1==0 and x%1==0 and x<=s:\n",
    "        print ('x1',x)\n",
    "        x=x+r\n",
    "        r=r/2\n",
    "        x=x+r\n",
    "        circlex1(r,x,s,y)\n",
    "    else:\n",
    "        exit\n",
    "        \n",
    "def circlex2(r,x,s,y):\n",
    "    if r%1==0 and x%1==0 and x<=s and x>=0:\n",
    "        print ('x2',x)\n",
    "        x=x-r\n",
    "        r=r/2\n",
    "        x=x-r\n",
    "        circlex2(r,x,s,y)\n",
    "    else:\n",
    "        exit\n",
    "        \n",
    "def circley1(r,y,s,x):\n",
    "    if r%1==0 and y%1==0 and y<=s:\n",
    "        print ('y1',y)\n",
    "        y=y+r\n",
    "        r=r/2\n",
    "        y=y+r\n",
    "        return circley1(r,y,s,x)\n",
    "    else:\n",
    "        exit\n",
    "        \n",
    "def circley2(r,y,s,x):\n",
    "    if r%1==0 and y%1==0 and y<=s and y>=0:\n",
    "        print ('y2',y)\n",
    "        y=y-r\n",
    "        r=r/2\n",
    "        y=y-r\n",
    "        return circlex2(r,y,s,x)\n",
    "    else:\n",
    "        exit\n",
    "    "
   ]
  },
  {
   "cell_type": "code",
   "execution_count": 487,
   "metadata": {},
   "outputs": [
    {
     "name": "stdout",
     "output_type": "stream",
     "text": [
      "y2 3\n"
     ]
    }
   ],
   "source": [
    "circley2(4,3,10,4)"
   ]
  },
  {
   "cell_type": "code",
   "execution_count": null,
   "metadata": {},
   "outputs": [],
   "source": []
  },
  {
   "cell_type": "code",
   "execution_count": null,
   "metadata": {},
   "outputs": [],
   "source": []
  }
 ],
 "metadata": {
  "kernelspec": {
   "display_name": "Python 3",
   "language": "python",
   "name": "python3"
  },
  "language_info": {
   "codemirror_mode": {
    "name": "ipython",
    "version": 3
   },
   "file_extension": ".py",
   "mimetype": "text/x-python",
   "name": "python",
   "nbconvert_exporter": "python",
   "pygments_lexer": "ipython3",
   "version": "3.6.3"
  }
 },
 "nbformat": 4,
 "nbformat_minor": 2
}
